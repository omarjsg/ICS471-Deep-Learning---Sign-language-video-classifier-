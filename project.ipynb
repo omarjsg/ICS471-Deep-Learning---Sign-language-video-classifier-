{
 "cells": [
  {
   "cell_type": "markdown",
   "metadata": {},
   "source": [
    "# ICS 471 project -  Sign Language Recognition"
   ]
  },
  {
   "attachments": {},
   "cell_type": "markdown",
   "metadata": {},
   "source": [
    "This project is done by:\n",
    "\n",
    "- Suhaib Abdulrahim Abdullatif `201821340`\n",
    "- Omar Jarallah Alghamdi `201855000`\n",
    "\n",
    "\n",
    "Sign language recognition is the task of recognizing the sign gesture in a video stream and outputting\n",
    "its equivalent word or label. This problem is a branch of video captioning tasks. Each video consists\n",
    "of a single sign.\n",
    "\n",
    "In this project, you will develop a recognition system to recognize the sign in each sign video of the\n",
    "KArSL dataset. KArSL is an Arabic sign language dataset. There are three versions of this dataset\n",
    "KArSL-100, KArSL-190, and KArSL-502. In this project, you will work on KArSL-100 which consists\n",
    "of 100 signs. The dataset was performed by three signers and each signer repeated each sign several\n",
    "times. The videos are already converted into frames (18 frames for each video) and the structure of the\n",
    "dataset is as follows:\n",
    "- Signer ID (ex. 01 for signer 01)\n",
    "    - Train\n",
    "        - 0071 (sign folder)\n",
    "            - Video#1 Frames folder (ex. 03_01_00071_(01_12_15_52_44))\n",
    "                - frame1.jpg\n",
    "                - frame2.jpg\n",
    "                - ….\n",
    "            - Video#1 Frames folder\n",
    "                - frame1.jpg\n",
    "                - frame2.jpg\n",
    "                - ….\n",
    "            - ……\n",
    "        - 0072\n",
    "        - ….\n",
    "    - Test\n",
    "\n",
    "In this project, you need to develop a deep learning model for sign language recognition. You should\n",
    "report the accuracy in the signer-dependent and signer-independent modes. In signer-dependent mode,\n",
    "you train the system and test it using samples from the same signer using the Train and Test folders of\n",
    "that signer. In signer-independent mode, you train the system on two signers and test it on the third\n",
    "signer."
   ]
  },
  {
   "cell_type": "markdown",
   "metadata": {},
   "source": [
    "## Step 1: Import the important libraries"
   ]
  },
  {
   "cell_type": "code",
   "execution_count": 1,
   "metadata": {},
   "outputs": [
    {
     "name": "stderr",
     "output_type": "stream",
     "text": [
      "2022-12-21 19:11:24.896079: I tensorflow/core/platform/cpu_feature_guard.cc:193] This TensorFlow binary is optimized with oneAPI Deep Neural Network Library (oneDNN) to use the following CPU instructions in performance-critical operations:  AVX2 FMA\n",
      "To enable them in other operations, rebuild TensorFlow with the appropriate compiler flags.\n"
     ]
    }
   ],
   "source": [
    "import tensorflow as tf\n",
    "import keras\n",
    "import pandas as pd\n",
    "import numpy as np\n",
    "import random\n",
    "import os\n",
    "from matplotlib.image import imread\n",
    "from keras import layers\n",
    "from keras.applications import VGG16\n",
    "from keras.models import Model\n",
    "from keras.layers import Input, TimeDistributed, Dense, LSTM, Reshape, Lambda, Flatten\n",
    "from keras.utils import Sequence\n",
    "\n",
    "from sklearn.metrics import classification_report\n",
    "\n",
    "import matplotlib.pyplot as plt\n",
    "\n",
    "\n",
    "import cv2"
   ]
  },
  {
   "cell_type": "markdown",
   "metadata": {},
   "source": [
    "## Step 2: Prepare the data"
   ]
  },
  {
   "cell_type": "markdown",
   "metadata": {},
   "source": [
    "### Read the labels"
   ]
  },
  {
   "cell_type": "code",
   "execution_count": 65,
   "metadata": {},
   "outputs": [],
   "source": [
    "translation_labels = pd.read_excel('KARSL-100_Labels.xlsx')"
   ]
  },
  {
   "cell_type": "code",
   "execution_count": 66,
   "metadata": {},
   "outputs": [
    {
     "data": {
      "text/html": [
       "<div>\n",
       "<style scoped>\n",
       "    .dataframe tbody tr th:only-of-type {\n",
       "        vertical-align: middle;\n",
       "    }\n",
       "\n",
       "    .dataframe tbody tr th {\n",
       "        vertical-align: top;\n",
       "    }\n",
       "\n",
       "    .dataframe thead th {\n",
       "        text-align: right;\n",
       "    }\n",
       "</style>\n",
       "<table border=\"1\" class=\"dataframe\">\n",
       "  <thead>\n",
       "    <tr style=\"text-align: right;\">\n",
       "      <th></th>\n",
       "      <th>SignID</th>\n",
       "      <th>Sign-Arabic</th>\n",
       "      <th>Sign-English</th>\n",
       "    </tr>\n",
       "  </thead>\n",
       "  <tbody>\n",
       "    <tr>\n",
       "      <th>0</th>\n",
       "      <td>71</td>\n",
       "      <td>هيكل عظمي</td>\n",
       "      <td>Skeleton</td>\n",
       "    </tr>\n",
       "    <tr>\n",
       "      <th>1</th>\n",
       "      <td>72</td>\n",
       "      <td>جمجة</td>\n",
       "      <td>skull</td>\n",
       "    </tr>\n",
       "    <tr>\n",
       "      <th>2</th>\n",
       "      <td>73</td>\n",
       "      <td>عمود فقري</td>\n",
       "      <td>Backbone</td>\n",
       "    </tr>\n",
       "    <tr>\n",
       "      <th>3</th>\n",
       "      <td>74</td>\n",
       "      <td>قفص صدري</td>\n",
       "      <td>Chest</td>\n",
       "    </tr>\n",
       "    <tr>\n",
       "      <th>4</th>\n",
       "      <td>75</td>\n",
       "      <td>جهاز تنفسي</td>\n",
       "      <td>Respiratory device</td>\n",
       "    </tr>\n",
       "  </tbody>\n",
       "</table>\n",
       "</div>"
      ],
      "text/plain": [
       "   SignID Sign-Arabic        Sign-English\n",
       "0      71   هيكل عظمي            Skeleton\n",
       "1      72        جمجة               skull\n",
       "2      73   عمود فقري            Backbone\n",
       "3      74    قفص صدري               Chest\n",
       "4      75  جهاز تنفسي  Respiratory device"
      ]
     },
     "execution_count": 66,
     "metadata": {},
     "output_type": "execute_result"
    }
   ],
   "source": [
    "translation_labels.head()"
   ]
  },
  {
   "attachments": {},
   "cell_type": "markdown",
   "metadata": {},
   "source": [
    "Get the minimum label to map the IDs"
   ]
  },
  {
   "cell_type": "code",
   "execution_count": 67,
   "metadata": {},
   "outputs": [
    {
     "data": {
      "text/plain": [
       "71"
      ]
     },
     "execution_count": 67,
     "metadata": {},
     "output_type": "execute_result"
    }
   ],
   "source": [
    "MINIMUM_SIGN_ID = translation_labels['SignID'].min()\n",
    "MINIMUM_SIGN_ID"
   ]
  },
  {
   "attachments": {},
   "cell_type": "markdown",
   "metadata": {},
   "source": [
    "We map the IDS so we can use them to predict the sign, since we have used the sparse categorical entropy"
   ]
  },
  {
   "cell_type": "code",
   "execution_count": 68,
   "metadata": {},
   "outputs": [
    {
     "data": {
      "text/html": [
       "<div>\n",
       "<style scoped>\n",
       "    .dataframe tbody tr th:only-of-type {\n",
       "        vertical-align: middle;\n",
       "    }\n",
       "\n",
       "    .dataframe tbody tr th {\n",
       "        vertical-align: top;\n",
       "    }\n",
       "\n",
       "    .dataframe thead th {\n",
       "        text-align: right;\n",
       "    }\n",
       "</style>\n",
       "<table border=\"1\" class=\"dataframe\">\n",
       "  <thead>\n",
       "    <tr style=\"text-align: right;\">\n",
       "      <th></th>\n",
       "      <th>SignID</th>\n",
       "      <th>Sign-Arabic</th>\n",
       "      <th>Sign-English</th>\n",
       "    </tr>\n",
       "  </thead>\n",
       "  <tbody>\n",
       "    <tr>\n",
       "      <th>0</th>\n",
       "      <td>0</td>\n",
       "      <td>هيكل عظمي</td>\n",
       "      <td>Skeleton</td>\n",
       "    </tr>\n",
       "    <tr>\n",
       "      <th>1</th>\n",
       "      <td>1</td>\n",
       "      <td>جمجة</td>\n",
       "      <td>skull</td>\n",
       "    </tr>\n",
       "    <tr>\n",
       "      <th>2</th>\n",
       "      <td>2</td>\n",
       "      <td>عمود فقري</td>\n",
       "      <td>Backbone</td>\n",
       "    </tr>\n",
       "    <tr>\n",
       "      <th>3</th>\n",
       "      <td>3</td>\n",
       "      <td>قفص صدري</td>\n",
       "      <td>Chest</td>\n",
       "    </tr>\n",
       "    <tr>\n",
       "      <th>4</th>\n",
       "      <td>4</td>\n",
       "      <td>جهاز تنفسي</td>\n",
       "      <td>Respiratory device</td>\n",
       "    </tr>\n",
       "  </tbody>\n",
       "</table>\n",
       "</div>"
      ],
      "text/plain": [
       "   SignID Sign-Arabic        Sign-English\n",
       "0       0   هيكل عظمي            Skeleton\n",
       "1       1        جمجة               skull\n",
       "2       2   عمود فقري            Backbone\n",
       "3       3    قفص صدري               Chest\n",
       "4       4  جهاز تنفسي  Respiratory device"
      ]
     },
     "execution_count": 68,
     "metadata": {},
     "output_type": "execute_result"
    }
   ],
   "source": [
    "translation_labels['SignID'] = translation_labels['SignID'].map(lambda x: x - MINIMUM_SIGN_ID)\n",
    "translation_labels.head()"
   ]
  },
  {
   "cell_type": "markdown",
   "metadata": {},
   "source": [
    "### Intialize `load_data` function"
   ]
  },
  {
   "cell_type": "markdown",
   "metadata": {},
   "source": [
    "This function reads video data from a folder, pads the video frames to a fixed length, and returns the videos and their labels as numpy arrays."
   ]
  },
  {
   "cell_type": "code",
   "execution_count": 4,
   "metadata": {},
   "outputs": [],
   "source": [
    "def load_data(folder_name):\n",
    "    \n",
    "    # Get a list of the files in the directory containing the frames\n",
    "    labels_files = [f for f in os.listdir(folder_name) if not f.startswith('.')]\n",
    "\n",
    "    # Sort the files in ascending order by file name\n",
    "    labels_files.sort()\n",
    "\n",
    "    # Initialize an empty list to store the frames\n",
    "    videos = []\n",
    "    labels = []\n",
    "\n",
    "    # Loop through the frame files\n",
    "    for label_file in labels_files:\n",
    "\n",
    "        label = label_file\n",
    "\n",
    "        # Get a list of the video files in the current label folder\n",
    "        videos_files = [f for f in os.listdir(os.path.join(folder_name, label_file)) if not f.startswith('.')]\n",
    "\n",
    "        # Loop through the video files\n",
    "        for video_name in videos_files:\n",
    "\n",
    "            # Initialize an empty list to store the frames\n",
    "            frames = []\n",
    "\n",
    "            # Get a list of the frame files in the current video folder\n",
    "            frames_files = [f for f in os.listdir(os.path.join(folder_name, label_file, video_name)) if not f.startswith('.')]\n",
    "\n",
    "            # Loop through the frame files\n",
    "            for frame_file in frames_files:\n",
    "\n",
    "                # Load the frame using imread()\n",
    "                frame = imread(os.path.join(folder_name, label_file, video_name, frame_file))\n",
    "\n",
    "                # Resize the frame\n",
    "                frame = cv2.resize(frame, (224, 224))\n",
    "\n",
    "                # Append the frame to the list\n",
    "                frames.append(frame)\n",
    "\n",
    "            # Stack the frames along the first dimension to create a video array\n",
    "            arr = np.stack(frames, axis=0)\n",
    "\n",
    "            # Desired shape\n",
    "            shape = (15, 224, 224, 3)\n",
    "\n",
    "            # Calculate the padding needed along the first dimension\n",
    "            pad_width = [(0, shape[0] - arr.shape[0])] + [(0, 0) for _ in range(arr.ndim - 1)]\n",
    "\n",
    "            # Pad the array using the 'edge' mode\n",
    "            padded_arr = np.pad(arr, pad_width, mode='edge')\n",
    "\n",
    "            # Append the padded array to the list of videos\n",
    "            videos.append(padded_arr)\n",
    "\n",
    "            # Append the label of the video to the list of labels\n",
    "            labels.append(label)\n",
    "\n",
    "    # Stack the videos along the first dimension to create a videos array\n",
    "    x = np.stack(videos, axis=0)\n",
    "\n",
    "    # Stack the labels along the first dimension to create a labels array\n",
    "    y = np.stack(labels, axis=0)\n",
    "    \n",
    "    # Return the videos and their labels\n",
    "    return x, y"
   ]
  },
  {
   "cell_type": "markdown",
   "metadata": {},
   "source": [
    "### Intialize `get_new_folder_path` function"
   ]
  },
  {
   "cell_type": "markdown",
   "metadata": {},
   "source": [
    "This function generates the full path to a subfolder within a specified folder. The subfolder is identified by its type(`train`, `test`) and `label`, and the function creates it if it doesn't exist. The function returns the full path of the subfolder."
   ]
  },
  {
   "cell_type": "code",
   "execution_count": 5,
   "metadata": {},
   "outputs": [],
   "source": [
    "def get_new_folder_path(folder_name, type, label):\n",
    "\n",
    "     # Get the current working directory\n",
    "     r_path = os.getcwd()\n",
    "\n",
    "     # Concatenate the name of the new directory to be created with the name of the original folder\n",
    "     directory = 'extracted' + '_'+ folder_name\n",
    "\n",
    "     # Join the current working directory, the new directory name, and the type and label subdirectories to create the full path\n",
    "     path = os.path.join(r_path, directory, type, label)\n",
    "\n",
    "     # Check if the path already exists\n",
    "     if not os.path.exists(path):\n",
    "\n",
    "          # If the path doesn't exist, create it using makedirs()\n",
    "          os.makedirs(path)\n",
    "\n",
    "          # Print a message indicating that the path has been created\n",
    "          print('The path ', path, ' has been generated.')\n",
    "          \n",
    "     # Return the full path     \n",
    "     return path"
   ]
  },
  {
   "cell_type": "markdown",
   "metadata": {},
   "source": [
    "This code defines a function called `extract_features` that takes in two arguments: `model` and `video`. The function first uses the `model` object to predict the features of the `video`. Then, the function returns the extracted features."
   ]
  },
  {
   "cell_type": "code",
   "execution_count": 6,
   "metadata": {},
   "outputs": [],
   "source": [
    "def extract_features(model, video):\n",
    "\n",
    "  # Extract the features using the pretrained CNN\n",
    "  features = model.predict(video)\n",
    "\n",
    "  # Return the extracted features\n",
    "  return features"
   ]
  },
  {
   "cell_type": "markdown",
   "metadata": {},
   "source": [
    "### Intialize `save_extract_features` function"
   ]
  },
  {
   "cell_type": "markdown",
   "metadata": {},
   "source": [
    "This function extracts features from a dataset of videos and saves them to a series of CSV files. It performs the following steps:\n",
    "\n",
    "1. It starts by printing a message indicating that the feature extraction process has started.\n",
    "\n",
    "2. It initializes a counter variable to keep track of the video number and a variable to store the current label.\n",
    "\n",
    "3. It loops through the data and labels arrays, using `zip()` to pair them up. For each iteration, it extracts the features from the current data point using the `extract_features()` function and stores them in the `video` variable.\n",
    "\n",
    "4. It gets the path of the new folder for the current label and type using the `get_new_folder_path()` function.\n",
    "\n",
    "5. It saves the extracted features to a CSV file in the new folder using `np.savetxt()`. It uses the counter variable to give each file a unique name.\n",
    "\n",
    "6. It updates the counter variable with each iteration.\n",
    "\n",
    "7. After the loop has finished running, it prints a message indicating that the extraction process has completed."
   ]
  },
  {
   "cell_type": "code",
   "execution_count": 7,
   "metadata": {},
   "outputs": [],
   "source": [
    "def save_extract_features(model, folder_name, type, data, labels):\n",
    "    print('Starting feature extraction...')\n",
    "\n",
    "    # Initialize a counter variable to keep track of the video number\n",
    "    counter = 1\n",
    "\n",
    "    # Initialize a variable to store the current label\n",
    "    label = ''\n",
    "\n",
    "    # Loop through the data and labels arrays\n",
    "    for x, y in zip(data, labels):\n",
    "\n",
    "        # Check if the current label is different from the previous one\n",
    "        if(label != y):\n",
    "\n",
    "            #  If the label has changed, update the label variable and reset the counter\n",
    "            label = y\n",
    "            counter = 1\n",
    "        \n",
    "        # Get the path of the new folder for the current label and type\n",
    "        video_path = get_new_folder_path(folder_name, type, y)\n",
    "\n",
    "        # Extract the features from the current data point\n",
    "        video = extract_features(model, np.array(x))\n",
    "\n",
    "        # Save the extracted features to a CSV file in the new folder\n",
    "        np.savetxt(os.path.join(video_path, \"{}.csv\".format(counter)), video, delimiter=\",\")\n",
    "\n",
    "        # Update the counter with each iteration\n",
    "        counter +=1\n",
    "        \n",
    "    print(\"Extraction completed\")"
   ]
  },
  {
   "cell_type": "markdown",
   "metadata": {},
   "source": [
    "### Intialize `model_cnn_load` function"
   ]
  },
  {
   "cell_type": "markdown",
   "metadata": {},
   "source": [
    "This function called `model_cnn_load` that loads a pre-trained VGG16 model from the ImageNet dataset and returns a new model using the inputs and output of the second-to-last layer of the original model. The VGG16 model is initialized with pre-trained weights and the top layers are included. The output of the second-to-last layer is obtained and used to create a new model using the inputs of the original model. The new model is returned."
   ]
  },
  {
   "cell_type": "code",
   "execution_count": 8,
   "metadata": {},
   "outputs": [],
   "source": [
    "# Loading the VGG16 model\n",
    "def model_cnn_load():\n",
    "    \n",
    "    # Initialize the VGG16 model with pre-trained weights on the ImageNet dataset and include the top layers\n",
    "    model = VGG16(weights=\"imagenet\", include_top=True, input_shape=(224, 224, 3))\n",
    "\n",
    "    # Get the output of the second-to-last layer of the model\n",
    "    out = model.layers[-2].output\n",
    "\n",
    "    # Create a new model using the inputs of the VGG16 model and the output of the second-to-last layer\n",
    "    model = Model(inputs=model.input, outputs=out)\n",
    "\n",
    "    # Return the new model\n",
    "    return model"
   ]
  },
  {
   "cell_type": "code",
   "execution_count": 9,
   "metadata": {},
   "outputs": [
    {
     "name": "stderr",
     "output_type": "stream",
     "text": [
      "2022-12-21 02:01:45.818964: I tensorflow/core/platform/cpu_feature_guard.cc:193] This TensorFlow binary is optimized with oneAPI Deep Neural Network Library (oneDNN) to use the following CPU instructions in performance-critical operations:  AVX2 FMA\n",
      "To enable them in other operations, rebuild TensorFlow with the appropriate compiler flags.\n"
     ]
    }
   ],
   "source": [
    "cnn_model = model_cnn_load()"
   ]
  },
  {
   "cell_type": "code",
   "execution_count": 10,
   "metadata": {},
   "outputs": [
    {
     "name": "stdout",
     "output_type": "stream",
     "text": [
      "Model: \"model\"\n",
      "_________________________________________________________________\n",
      " Layer (type)                Output Shape              Param #   \n",
      "=================================================================\n",
      " input_1 (InputLayer)        [(None, 224, 224, 3)]     0         \n",
      "                                                                 \n",
      " block1_conv1 (Conv2D)       (None, 224, 224, 64)      1792      \n",
      "                                                                 \n",
      " block1_conv2 (Conv2D)       (None, 224, 224, 64)      36928     \n",
      "                                                                 \n",
      " block1_pool (MaxPooling2D)  (None, 112, 112, 64)      0         \n",
      "                                                                 \n",
      " block2_conv1 (Conv2D)       (None, 112, 112, 128)     73856     \n",
      "                                                                 \n",
      " block2_conv2 (Conv2D)       (None, 112, 112, 128)     147584    \n",
      "                                                                 \n",
      " block2_pool (MaxPooling2D)  (None, 56, 56, 128)       0         \n",
      "                                                                 \n",
      " block3_conv1 (Conv2D)       (None, 56, 56, 256)       295168    \n",
      "                                                                 \n",
      " block3_conv2 (Conv2D)       (None, 56, 56, 256)       590080    \n",
      "                                                                 \n",
      " block3_conv3 (Conv2D)       (None, 56, 56, 256)       590080    \n",
      "                                                                 \n",
      " block3_pool (MaxPooling2D)  (None, 28, 28, 256)       0         \n",
      "                                                                 \n",
      " block4_conv1 (Conv2D)       (None, 28, 28, 512)       1180160   \n",
      "                                                                 \n",
      " block4_conv2 (Conv2D)       (None, 28, 28, 512)       2359808   \n",
      "                                                                 \n",
      " block4_conv3 (Conv2D)       (None, 28, 28, 512)       2359808   \n",
      "                                                                 \n",
      " block4_pool (MaxPooling2D)  (None, 14, 14, 512)       0         \n",
      "                                                                 \n",
      " block5_conv1 (Conv2D)       (None, 14, 14, 512)       2359808   \n",
      "                                                                 \n",
      " block5_conv2 (Conv2D)       (None, 14, 14, 512)       2359808   \n",
      "                                                                 \n",
      " block5_conv3 (Conv2D)       (None, 14, 14, 512)       2359808   \n",
      "                                                                 \n",
      " block5_pool (MaxPooling2D)  (None, 7, 7, 512)         0         \n",
      "                                                                 \n",
      " flatten (Flatten)           (None, 25088)             0         \n",
      "                                                                 \n",
      " fc1 (Dense)                 (None, 4096)              102764544 \n",
      "                                                                 \n",
      " fc2 (Dense)                 (None, 4096)              16781312  \n",
      "                                                                 \n",
      "=================================================================\n",
      "Total params: 134,260,544\n",
      "Trainable params: 134,260,544\n",
      "Non-trainable params: 0\n",
      "_________________________________________________________________\n"
     ]
    }
   ],
   "source": [
    "cnn_model.summary()"
   ]
  },
  {
   "cell_type": "markdown",
   "metadata": {},
   "source": [
    "Load the raw data of the training videos for the first signer."
   ]
  },
  {
   "cell_type": "code",
   "execution_count": 11,
   "metadata": {},
   "outputs": [],
   "source": [
    "# trainx_1, trainy_1 = load_data('01/train')"
   ]
  },
  {
   "cell_type": "markdown",
   "metadata": {},
   "source": [
    "Extract the videos features and save it into CSV files."
   ]
  },
  {
   "cell_type": "code",
   "execution_count": 12,
   "metadata": {},
   "outputs": [],
   "source": [
    "# save_extract_features(cnn_model, '01', 'train', trainx_1, trainy_1)"
   ]
  },
  {
   "cell_type": "markdown",
   "metadata": {},
   "source": [
    "Load the raw data of the training videos for the second signer."
   ]
  },
  {
   "cell_type": "code",
   "execution_count": 13,
   "metadata": {},
   "outputs": [],
   "source": [
    "# trainx_2, trainy_2 = load_data('02/train')"
   ]
  },
  {
   "cell_type": "markdown",
   "metadata": {},
   "source": [
    "Extract the videos features and save it into CSV files."
   ]
  },
  {
   "cell_type": "code",
   "execution_count": 14,
   "metadata": {},
   "outputs": [],
   "source": [
    "# save_extract_features(cnn_model, '02', 'train', trainx_2, trainy_2)"
   ]
  },
  {
   "cell_type": "markdown",
   "metadata": {},
   "source": [
    "Load the raw data of the training videos for the third signer."
   ]
  },
  {
   "cell_type": "code",
   "execution_count": 15,
   "metadata": {},
   "outputs": [],
   "source": [
    "# trainx_3, trainy_3 = load_data('03/train')"
   ]
  },
  {
   "cell_type": "markdown",
   "metadata": {},
   "source": [
    "Extract the videos features and save it into CSV files."
   ]
  },
  {
   "cell_type": "code",
   "execution_count": 16,
   "metadata": {},
   "outputs": [],
   "source": [
    "# save_extract_features(cnn_model, '03', 'train', trainx_3, trainy_3)"
   ]
  },
  {
   "cell_type": "markdown",
   "metadata": {},
   "source": [
    "Load the raw data of the testing videos for the first signer."
   ]
  },
  {
   "cell_type": "code",
   "execution_count": 17,
   "metadata": {},
   "outputs": [],
   "source": [
    "# testx_1, testy_1 = load_data('01/test')"
   ]
  },
  {
   "cell_type": "markdown",
   "metadata": {},
   "source": [
    "Extract the videos features and save it into CSV files."
   ]
  },
  {
   "cell_type": "code",
   "execution_count": 18,
   "metadata": {},
   "outputs": [],
   "source": [
    "# save_extract_features(cnn_model, '01', 'test', testx_1, testy_1)"
   ]
  },
  {
   "cell_type": "markdown",
   "metadata": {},
   "source": [
    "Load the raw data of the testing videos for the second signer."
   ]
  },
  {
   "cell_type": "code",
   "execution_count": 19,
   "metadata": {},
   "outputs": [],
   "source": [
    "# testx_2, testy_2 = load_data('02/test')"
   ]
  },
  {
   "cell_type": "markdown",
   "metadata": {},
   "source": [
    "Extract the videos features and save it into CSV files."
   ]
  },
  {
   "cell_type": "code",
   "execution_count": 20,
   "metadata": {},
   "outputs": [],
   "source": [
    "# save_extract_features(cnn_model, '02', 'test', testx_2, testy_2)"
   ]
  },
  {
   "cell_type": "markdown",
   "metadata": {},
   "source": [
    "Load the raw data of the testing videos for the third signer."
   ]
  },
  {
   "cell_type": "code",
   "execution_count": 21,
   "metadata": {},
   "outputs": [],
   "source": [
    "# testx_3, testy_3 = load_data('03/test')"
   ]
  },
  {
   "cell_type": "markdown",
   "metadata": {},
   "source": [
    "Extract the videos features and save it into CSV files."
   ]
  },
  {
   "cell_type": "code",
   "execution_count": 22,
   "metadata": {},
   "outputs": [],
   "source": [
    "# save_extract_features(cnn_model, '03', 'test', testx_3, testy_3)"
   ]
  },
  {
   "cell_type": "markdown",
   "metadata": {},
   "source": [
    "### Intialize `CSVBatchGenerator` class"
   ]
  },
  {
   "attachments": {},
   "cell_type": "markdown",
   "metadata": {},
   "source": [
    "The `CSVBatchGenerator` class is used to generate batches of data from a set of CSV files stored in a root directory. When an instance of the `CSVBatchGenerator` class is created, it takes the following arguments:\n",
    "\n",
    "- `root_dir`: the root directory where the CSV files are stored.\n",
    "\n",
    "- `batch_size`: the number of CSV files to include in each batch.\n",
    "\n",
    "- `shuffle`: a boolean indicating whether to shuffle the order of the CSV files before generating batches.\n",
    "\n",
    "- `split`: a float between 0 and 1 indicating the proportion of the CSV files to use for training, the remainder is used for validation.\n",
    "\n",
    "- `mode`: a string that specifies whether the generator is in \"train\", \"validation\", or \"test\" mode.\n",
    "\n",
    "The `CSVBatchGenerator` class has the following methods:\n",
    "\n",
    "- `get_all_samples`: returns all the data and labels in terms of x and y.\n",
    "\n",
    "- `get_all_csv_files`: returns a list of all CSV file paths in the root directory.\n",
    "\n",
    "- `on_epoch_end`: is called at the end of each epoch and shuffles the file paths if specified.\n",
    "\n",
    "- `__len__`: returns the number of batches.\n",
    "\n",
    "- `__getitem__`: returns a batch of data, which consists of a list of numpy arrays (one array for each CSV file in the batch) and a list of labels (one label for each CSV file in the batch).\n",
    "\n",
    "The `__getitem__` method first selects the appropriate list of CSV file paths to use based on the generator's mode (either the training file paths, the validation file paths, or the test file paths). It then shuffles the file paths if the `shuffle` argument was set to `True`. Finally, it reads in each CSV file in the batch and extracts the data and label for each file, adding them to the `X` and `y` lists, respectively. The `X` and `y` lists are then returned as a tuple."
   ]
  },
  {
   "cell_type": "code",
   "execution_count": 41,
   "metadata": {},
   "outputs": [],
   "source": [
    "import random\n",
    "\n",
    "class CSVBatchGenerator(Sequence):\n",
    "  # Initialize the batch generator\n",
    "  def __init__(self, root_dir, batch_size, shuffle=True, split = 0.0, mode='train'):\n",
    "    # Set the root directory, batch size, and mode as instance variables\n",
    "    self.root_dir = root_dir\n",
    "    self.batch_size = batch_size\n",
    "    self.mode = mode\n",
    "    # Get the list of CSV file paths\n",
    "    self.csv_file_paths = self.get_all_csv_files()\n",
    "    self.shuffle = shuffle\n",
    "\n",
    "    # Shuffle the list of CSV file paths if shuffle is True\n",
    "    random.seed(777)\n",
    "    if self.shuffle:\n",
    "      self.csv_file_paths = random.shuffle(self.csv_file_paths)\n",
    "    \n",
    "    # Split the file paths into a training set and a validation set\n",
    "    n = len(self.csv_file_paths)\n",
    "    split_index = int(n * (1 - split))\n",
    "    self.train_csv_file_paths = self.csv_file_paths[:split_index]\n",
    "    self.valid_csv_file_paths = self.csv_file_paths[split_index:]\n",
    "  \n",
    "  def get_all_samples(self):\n",
    "   \n",
    "    csv_file_paths = None\n",
    "\n",
    "    # If the generator is for the validation set, use the list of validation file paths\n",
    "    # Otherwise, use the list of training file paths\n",
    "    if self.mode == 'validation':\n",
    "      csv_file_paths = self.valid_csv_file_paths\n",
    "    elif self.mode == 'train':\n",
    "      csv_file_paths = self.train_csv_file_paths\n",
    "    elif self.mode == 'test': \n",
    "      csv_file_paths = self.csv_file_paths\n",
    "    X, y = [], []  # Initialize empty lists for the data and labels\n",
    "    # Iterate through the CSV file paths \n",
    "    for csv_file_path in csv_file_paths:\n",
    "      # Read in the CSV file as a numpy array using np.genfromtxt\n",
    "      data = np.genfromtxt(csv_file_path, delimiter=',')\n",
    "      # Extract the label from the file path and convert it to an integer\n",
    "      label = int(csv_file_path.split('/')[-2])\n",
    "      # Add the data and label to the lists\n",
    "      X.append(data)\n",
    "      y.append(int(label) - MINIMUM_SIGN_ID)\n",
    "    # Stack the data and labels into numpy arrays along the first axis\n",
    "    X = np.stack(X, axis=0)\n",
    "    y = np.stack(y, axis=0)\n",
    "    # Return the data and labels\n",
    "    return X, y\n",
    "\n",
    "  # Get a list of all CSV files in the root directory\n",
    "  def get_all_csv_files(self):\n",
    "    file_paths = []  # Initialize an empty list to store the file paths\n",
    "    # Iterate through all directories, subdirectories, and files in the root directory\n",
    "    for dir_path, _, file_names in os.walk(self.root_dir):\n",
    "      # Iterate through all file names\n",
    "      for file_name in file_names:\n",
    "        # Construct the full file path by joining the current working directory, directory path, and file name\n",
    "        file_path = os.path.join(os.getcwd(), dir_path, file_name)\n",
    "        # If the file is a CSV file, append it to the list of file paths\n",
    "        if file_path.endswith('.csv'):\n",
    "          file_paths.append(file_path)\n",
    "    # Return the list of file paths\n",
    "    return file_paths\n",
    "\n",
    "  def on_epoch_end(self):\n",
    "    #To control the randomness of the generation\n",
    "    random.seed(int(random.randint(0, 2**32)))\n",
    "    if self.shuffle:\n",
    "      if self.mode == 'validation':\n",
    "        self.valid_csv_file_paths = random.shuffle(self.valid_csv_file_paths)\n",
    "      elif self.mode == 'train':\n",
    "        self.train_csv_file_paths = random.shuffle(self.train_csv_file_paths)\n",
    "      elif self.mode == 'test': \n",
    "        self.csv_file_paths = random.shuffle(self.csv_file_paths)\n",
    "\n",
    "  # Return the number of batches\n",
    "  def __len__(self):\n",
    "    # Calculate the number of batches by dividing the number of CSV file paths by the batch size\n",
    "    if self.mode == 'validation':\n",
    "      return len(self.valid_csv_file_paths) // self.batch_size\n",
    "    elif self.mode == 'train':\n",
    "      return len(self.train_csv_file_paths) // self.batch_size\n",
    "    elif self.mode == 'test': \n",
    "      return len(self.csv_file_paths) // self.batch_size\n",
    "\n",
    "  # Get a batch of data\n",
    "  def __getitem__(self, idx):\n",
    "    # Calculate the start and end indices for the batch\n",
    "    start = idx * self.batch_size\n",
    "    end = start + self.batch_size\n",
    "    \n",
    "    csv_file_paths = None\n",
    "\n",
    "    # If the generator is for the validation set, use the list of validation file paths\n",
    "    # Otherwise, use the list of training file paths\n",
    "    if self.mode == 'validation':\n",
    "      csv_file_paths = self.valid_csv_file_paths\n",
    "    elif self.mode == 'train':\n",
    "      csv_file_paths = self.train_csv_file_paths\n",
    "    elif self.mode == 'test': \n",
    "      csv_file_paths = self.csv_file_paths\n",
    "\n",
    "    # Get the list of CSV file paths for the current batch\n",
    "    batch_csv_file_paths = csv_file_paths[start:end]\n",
    "\n",
    "    X, y = [], []  # Initialize empty lists for the data and labels\n",
    "    # Iterate through the CSV file paths in the batch\n",
    "    for csv_file_path in batch_csv_file_paths:\n",
    "      # Read in the CSV file as a numpy array using np.genfromtxt\n",
    "      data = np.genfromtxt(csv_file_path, delimiter=',')\n",
    "      # Extract the label from the file path and convert it to an integer\n",
    "      label = int(csv_file_path.split('/')[-2])\n",
    "      # Add the data and label to the lists\n",
    "      X.append(data)\n",
    "      y.append(int(label) - MINIMUM_SIGN_ID)\n",
    "    # Stack the data and labels into numpy arrays along the first axis\n",
    "    X = np.stack(X, axis=0)\n",
    "    y = np.stack(y, axis=0)\n",
    "    # Return the data and labels\n",
    "    return X, y"
   ]
  },
  {
   "attachments": {},
   "cell_type": "markdown",
   "metadata": {},
   "source": [
    "### Intialize `CombinedBatchGenerator` class"
   ]
  },
  {
   "attachments": {},
   "cell_type": "markdown",
   "metadata": {},
   "source": [
    "The `CombinedBatchGenerator` class is a generator that combines the data from two other generators, `generator1` and `generator2`. The class is implemented using the `Sequence` class from the `keras.utils` module, which allows it to be used with the `fit` function from the `keras` library.\n",
    "\n",
    "- `__init__`: initializes the generator by setting `generator1` and `generator2` as instance variables.\n",
    "\n",
    "- `__len__`: returns the total number of batches in the combined generator, which is calculated by adding the number of batches in `generator1` and `generator2`.\n",
    "\n",
    "- ` __getitem__`: returns the data for a specific batch by indexing the corresponding generator. If the index is less than the number of batches in `generator1`, it returns the data from `generator1`, otherwise it returns the data from `generator2`."
   ]
  },
  {
   "cell_type": "code",
   "execution_count": 5,
   "metadata": {},
   "outputs": [],
   "source": [
    "class CombinedBatchGenerator(Sequence):\n",
    "  def __init__(self, generator1, generator2):\n",
    "    self.generator1 = generator1\n",
    "    self.generator2 = generator2\n",
    "    \n",
    "  def __len__(self):\n",
    "    return len(self.generator1) + len(self.generator2)\n",
    "  \n",
    "  def __getitem__(self, index):\n",
    "    if index < len(self.generator1):\n",
    "      return self.generator1[index]\n",
    "    else:\n",
    "      return self.generator2[index - len(self.generator1)]"
   ]
  },
  {
   "cell_type": "markdown",
   "metadata": {},
   "source": [
    "### Creating train, validation and test generators for each signer"
   ]
  },
  {
   "cell_type": "code",
   "execution_count": 147,
   "metadata": {},
   "outputs": [],
   "source": [
    "# Determine the validation ratio and batch size\n",
    "\n",
    "VAL_RATIO = 0.2\n",
    "BATCH_SIZE = 32"
   ]
  },
  {
   "cell_type": "markdown",
   "metadata": {},
   "source": [
    "Create train, val and test generators for signer #1"
   ]
  },
  {
   "cell_type": "code",
   "execution_count": 148,
   "metadata": {},
   "outputs": [],
   "source": [
    "train_generator1 = CSVBatchGenerator('extracted_01/train', batch_size=BATCH_SIZE, shuffle=True, split = VAL_RATIO, mode = 'train')\n",
    "val_generator1 = CSVBatchGenerator('extracted_01/train', batch_size=BATCH_SIZE, shuffle=True, split = VAL_RATIO, mode = 'validation')\n",
    "test_generator1 = CSVBatchGenerator('extracted_01/test', batch_size=BATCH_SIZE, shuffle=False, mode = 'test')"
   ]
  },
  {
   "cell_type": "markdown",
   "metadata": {},
   "source": [
    "Create train, val and test generators for signer #2"
   ]
  },
  {
   "cell_type": "code",
   "execution_count": 149,
   "metadata": {},
   "outputs": [],
   "source": [
    "train_generator2 = CSVBatchGenerator('extracted_02/train', batch_size=BATCH_SIZE, shuffle=True, split = VAL_RATIO, mode = 'train')\n",
    "val_generator2 = CSVBatchGenerator('extracted_02/train', batch_size=BATCH_SIZE, shuffle=True, split = VAL_RATIO, mode = 'validation')\n",
    "test_generator2 = CSVBatchGenerator('extracted_02/test', batch_size=BATCH_SIZE, shuffle=False, mode = 'test')"
   ]
  },
  {
   "cell_type": "markdown",
   "metadata": {},
   "source": [
    "Create train, val and test generators for signer #3"
   ]
  },
  {
   "cell_type": "code",
   "execution_count": 150,
   "metadata": {},
   "outputs": [],
   "source": [
    "train_generator3 = CSVBatchGenerator('extracted_03/train', batch_size=BATCH_SIZE, shuffle=True, split = VAL_RATIO, mode = 'train')\n",
    "val_generator3 = CSVBatchGenerator('extracted_03/train', batch_size=BATCH_SIZE, shuffle=True, split = VAL_RATIO, mode = 'validation')\n",
    "test_generator3 = CSVBatchGenerator('extracted_03/test', batch_size=BATCH_SIZE, shuffle=False, mode = 'test')"
   ]
  },
  {
   "attachments": {},
   "cell_type": "markdown",
   "metadata": {},
   "source": [
    "Combine train and val for signer #2 and #3"
   ]
  },
  {
   "cell_type": "code",
   "execution_count": 151,
   "metadata": {},
   "outputs": [],
   "source": [
    "train_generator_23 = CombinedBatchGenerator(train_generator2, train_generator3)\n",
    "val_generator_23 = CombinedBatchGenerator(val_generator2, val_generator3)"
   ]
  },
  {
   "attachments": {},
   "cell_type": "markdown",
   "metadata": {},
   "source": [
    "Combine train and val for signer #1 and #3"
   ]
  },
  {
   "cell_type": "code",
   "execution_count": 152,
   "metadata": {},
   "outputs": [],
   "source": [
    "train_generator_13 = CombinedBatchGenerator(train_generator1, train_generator3)\n",
    "val_generator_13 = CombinedBatchGenerator(val_generator1, val_generator3)"
   ]
  },
  {
   "attachments": {},
   "cell_type": "markdown",
   "metadata": {},
   "source": [
    "Combine train and val for signer #1 and #2"
   ]
  },
  {
   "cell_type": "code",
   "execution_count": 153,
   "metadata": {},
   "outputs": [],
   "source": [
    "train_generator_12 = CombinedBatchGenerator(train_generator1, train_generator2)\n",
    "val_generator_12 = CombinedBatchGenerator(val_generator1, val_generator2)"
   ]
  },
  {
   "cell_type": "markdown",
   "metadata": {},
   "source": [
    "## Step 3: Building the model"
   ]
  },
  {
   "attachments": {},
   "cell_type": "markdown",
   "metadata": {},
   "source": [
    "Since videos are ordered sequences of frames, we need our Transformer model to take into account order information. We do this via **positional encoding**. We simply embed the positions of the frames present inside videos with an `Embedding` layer. We then add these positional embeddings to the precomputed CNN feature maps."
   ]
  },
  {
   "attachments": {},
   "cell_type": "markdown",
   "metadata": {},
   "source": [
    "### Intialize `PositionalEmbedding` class"
   ]
  },
  {
   "attachments": {},
   "cell_type": "markdown",
   "metadata": {},
   "source": [
    "The `PositionalEmbedding` class is a custom layer in `TensorFlow` that adds position embeddings to the input data. It generates a tensor of positions, applies an Embedding layer to them to get the embeddings, and then adds the embeddings to the input tensor."
   ]
  },
  {
   "attachments": {},
   "cell_type": "markdown",
   "metadata": {},
   "source": [
    "- `__init__`: initializes the layer with the given `sequence_length` and `output_dim` parameters, as well as an `Embedding` layer that maps positions to embeddings. The `sequence_length` and `output_dim` parameters are stored as instance variables.\n",
    "\n",
    "- `call`: takes a tensor of shape `(batch_size, frames, num_features)` as input, and returns a tensor of the same shape with the position embeddings added. It generates a tensor of positions using the `tf.range` function, and then applies the `Embedding` layer to the positions to get the embeddings. Finally, it adds the embeddings to the input tensor and returns the result.\n",
    "\n",
    "- `compute_mask`: takes an input tensor and a mask, and returns a mask that indicates which elements in the input tensor are valid. It does this by casting the input tensor to a boolean tensor and then reducing it along the last axis using the `tf.reduce_any` function. This results in a boolean tensor of shape `(batch_size, frames)` where True values indicate that at least one feature in that time step is valid."
   ]
  },
  {
   "cell_type": "code",
   "execution_count": 12,
   "metadata": {},
   "outputs": [],
   "source": [
    "class PositionalEmbedding(layers.Layer):\n",
    "\n",
    "    # Initialize the layer with the given sequence_length and output_dim parameters\n",
    "    def __init__(self, sequence_length, output_dim, **kwargs):\n",
    "        super().__init__(**kwargs)\n",
    "\n",
    "        # Create an Embedding layer that maps positions to embeddings\n",
    "        self.position_embeddings = layers.Embedding(\n",
    "            input_dim=sequence_length, output_dim=output_dim\n",
    "        )\n",
    "\n",
    "        # Store the sequence_length and output_dim as instance variables\n",
    "        self.sequence_length = sequence_length\n",
    "        self.output_dim = output_dim\n",
    "\n",
    "    def call(self, inputs):\n",
    "        \n",
    "        # The inputs are of shape: `(batch_size, frames, num_features)`\n",
    "        # Get the length of the inputs along the frames axis\n",
    "        length = tf.shape(inputs)[1]\n",
    "\n",
    "        # Generate a tensor of positions using the tf.range function\n",
    "        positions = tf.range(start=0, limit=length, delta=1)\n",
    "\n",
    "        # Apply the Embedding layer to the positions to get the embeddings\n",
    "        embedded_positions = self.position_embeddings(positions)\n",
    "\n",
    "        # Add the embeddings to the inputs and return the result\n",
    "        return inputs + embedded_positions\n",
    "\n",
    "    def compute_mask(self, inputs, mask=None):\n",
    "\n",
    "        # Create a boolean tensor by casting the inputs to bool\n",
    "        mask = tf.reduce_any(tf.cast(inputs, \"bool\"), axis=-1)\n",
    "\n",
    "        # Return the mask\n",
    "        return mask"
   ]
  },
  {
   "attachments": {},
   "cell_type": "markdown",
   "metadata": {},
   "source": [
    "### Intialize `TransformerEncoder` class"
   ]
  },
  {
   "attachments": {},
   "cell_type": "markdown",
   "metadata": {},
   "source": [
    "This code defines a class called `TransformerEncoder` which represents an encoder in a transformer model. The `TransformerEncoder` class has several attributes and methods:\n",
    "\n",
    "- `__init__`: This is the constructor for the `TransformerEncoder` class. It takes four arguments: `embed_dim`, `dense_dim`, `num_heads`, and `**kwargs`. `embed_dim` represents the size of the embedding vectors. `dense_dim` represents the size of the dense layers. `num_heads` represents the number of attention heads. `**kwargs` is a catch-all for any additional keyword arguments that may be passed to the constructor.\n",
    "\n",
    "- `call`: This method defines the forward pass of the `TransformerEncoder`. It takes two arguments: `inputs` and `mask`. `inputs` is a tensor of shape `(batch_size, sequence_length, embed_dim)` representing the input sequence. `mask` is a tensor of shape `(batch_size, sequence_length)` representing the attention mask. The method first applies the attention layer to the inputs, using the attention mask if provided. It then applies a normalization layer and a dense projection layer to the input sequence. Finally, it returns the output of the final normalization layer.\n",
    "\n",
    "The `TransformerEncoder` class also has several attributes:\n",
    "\n",
    "- `embed_dim`: The size of the embedding vectors.\n",
    "- `dense_dim`: The size of the dense layers.\n",
    "- `num_heads`: The number of attention heads.\n",
    "- `attention`: A multi-headed attention layer.\n",
    "- `dense_proj`: A sequence of two dense layers, with the first layer using the GELU activation function.\n",
    "- `layernorm_1`: A layer normalization layer.\n",
    "- `layernorm_2`: A layer normalization layer."
   ]
  },
  {
   "cell_type": "code",
   "execution_count": 13,
   "metadata": {},
   "outputs": [],
   "source": [
    "class TransformerEncoder(layers.Layer):\n",
    "\n",
    "    def __init__(self, embed_dim, dense_dim, num_heads, **kwargs):\n",
    "\n",
    "        # Call the base class constructor\n",
    "        super().__init__(**kwargs)\n",
    "\n",
    "        # Initialize attributes\n",
    "        self.embed_dim = embed_dim\n",
    "        self.dense_dim = dense_dim\n",
    "        self.num_heads = num_heads\n",
    "\n",
    "        # Create a multi-headed attention layer\n",
    "        self.attention = layers.MultiHeadAttention(\n",
    "            num_heads=num_heads, key_dim=embed_dim, dropout=0.3\n",
    "        )\n",
    "\n",
    "        # Create a sequence of two dense layers, with the first layer using the GELU activation function\n",
    "        self.dense_proj = keras.Sequential(\n",
    "            [layers.Dense(dense_dim, activation=tf.nn.gelu), layers.Dense(embed_dim),]\n",
    "        )\n",
    "\n",
    "        # Create two layer normalization layers\n",
    "        self.layernorm_1 = layers.LayerNormalization()\n",
    "        self.layernorm_2 = layers.LayerNormalization()\n",
    "\n",
    "    def call(self, inputs, mask=None):\n",
    "\n",
    "        # Optionally apply the attention mask\n",
    "        if mask is not None:\n",
    "            mask = mask[:, tf.newaxis, :]\n",
    "\n",
    "        # Apply the attention layer to the inputs\n",
    "        attention_output = self.attention(inputs, inputs, attention_mask=mask)\n",
    "\n",
    "        # Normalize the input sequence and add the attention output\n",
    "        proj_input = self.layernorm_1(inputs + attention_output)\n",
    "\n",
    "        # Apply the dense projection layer\n",
    "        proj_output = self.dense_proj(proj_input)\n",
    "\n",
    "        # Normalize the input sequence and add the projection output\n",
    "        return self.layernorm_2(proj_input + proj_output)"
   ]
  },
  {
   "attachments": {},
   "cell_type": "markdown",
   "metadata": {},
   "source": [
    "### Intialize `get_compiled_model` function"
   ]
  },
  {
   "attachments": {},
   "cell_type": "markdown",
   "metadata": {},
   "source": [
    "`get_compiled_model()` function defines and returns a compiled transformer model for video classification. The model has an embedding layer, a transformer encoder, a global max pooling layer, a dropout layer, and a dense output layer with a softmax activation. The model is compiled with the Adam optimizer, a sparse categorical crossentropy loss function, and an accuracy metric."
   ]
  },
  {
   "cell_type": "code",
   "execution_count": 276,
   "metadata": {},
   "outputs": [],
   "source": [
    "def get_compiled_model():\n",
    "    sequence_length = 18 # Number of frames per video\n",
    "    embed_dim = 4096 # Number of features per frame\n",
    "    dense_dim = 4 # Size of dense layers\n",
    "    num_heads = 2 # Number of attention heads\n",
    "    classes = 100 # Number of classes\n",
    "\n",
    "    # Define the input layer\n",
    "    inputs = keras.Input(shape=(None, None))\n",
    "\n",
    "    # Add a positional embedding layer\n",
    "    x = PositionalEmbedding(\n",
    "        sequence_length, embed_dim, name=\"frame_position_embedding\"\n",
    "    )(inputs)\n",
    "\n",
    "    # Add a transformer encoder layer\n",
    "    x = TransformerEncoder(embed_dim, dense_dim, num_heads, name=\"transformer_layer\")(x)\n",
    "\n",
    "    # Add a global max pooling layer\n",
    "    x = layers.GlobalMaxPooling1D()(x)\n",
    "\n",
    "    # Add a dropout layer\n",
    "    x = layers.Dropout(0.5)(x)\n",
    "\n",
    "    # Add a dense output layer with a softmax activation\n",
    "    outputs = layers.Dense(classes, activation=\"softmax\")(x)\n",
    "\n",
    "    # Create the model\n",
    "    model = keras.Model(inputs, outputs)\n",
    "\n",
    "    # Compile the model with the Adam optimizer, a sparse categorical crossentropy loss function, and an accuracy metric\n",
    "    model.compile(\n",
    "        optimizer=\"adam\", loss=\"sparse_categorical_crossentropy\", metrics=[\"accuracy\"]\n",
    "    )\n",
    "    return model"
   ]
  },
  {
   "attachments": {},
   "cell_type": "markdown",
   "metadata": {},
   "source": [
    "`flatten` function flatten takes a single argument `lst`, which is a list of lists. The function returns a flat list containing all of the elements in `lst`, recursively flattening sublists if they exist."
   ]
  },
  {
   "cell_type": "code",
   "execution_count": 204,
   "metadata": {},
   "outputs": [],
   "source": [
    "def flatten(lst):\n",
    "    flat_list = []\n",
    "    for sublist in lst:\n",
    "        flat_list.extend(sublist.flatten())\n",
    "    return flat_list"
   ]
  },
  {
   "cell_type": "code",
   "execution_count": 266,
   "metadata": {},
   "outputs": [],
   "source": [
    "def print_report(model, generator):\n",
    "    true_labels = [ y for (x,y) in generator]\n",
    "    flattened = flatten(true_labels)\n",
    "    p_predictions = model.predict(generator)\n",
    "    predictions = np.argmax(p_predictions, axis=1).tolist()\n",
    "    return classification_report(flattened, predictions)\n",
    "    "
   ]
  },
  {
   "cell_type": "code",
   "execution_count": 230,
   "metadata": {},
   "outputs": [],
   "source": [
    "def plot_loss(history):\n",
    "    # Plot training & validation loss values\n",
    "    plt.plot(history.history['loss'])\n",
    "    plt.plot(history.history['val_loss'])\n",
    "    plt.title('Model loss')\n",
    "    plt.ylabel('Loss')\n",
    "    plt.xlabel('Epoch')\n",
    "    plt.legend(['Train', 'Val'], loc='upper left')\n",
    "    plt.show()"
   ]
  },
  {
   "attachments": {},
   "cell_type": "markdown",
   "metadata": {},
   "source": [
    "## Step 4: Training and evaluating the model"
   ]
  },
  {
   "attachments": {},
   "cell_type": "markdown",
   "metadata": {},
   "source": [
    "In this project, you need to develop a deep learning model for sign language recognition. You should\n",
    "report the accuracy in the signer-dependent and signer-independent modes. In signer-dependent mode,\n",
    "you train the system and test it using samples from the same signer using the Train and Test folders of\n",
    "that signer. In signer-independent mode, you train the system on two signers and test it on the third\n",
    "signer. You should report the results as follows:\n",
    "\n",
    "**1. Signer-dependent**\n",
    "\n",
    "Signer | Accuracy \n",
    "-------|----------\n",
    "01     | \n",
    "02     | \n",
    "03     | \n",
    "\n",
    "**2. Signer-independent**\n",
    "\n",
    "Signer | Accuracy \n",
    "-------|----------\n",
    "01 (trained on 02,03)| \n",
    "02 (trained on 01,03)| \n",
    "03 (trained on 01,02)| "
   ]
  },
  {
   "cell_type": "markdown",
   "metadata": {},
   "source": [
    "## A. Signer-dependant "
   ]
  },
  {
   "cell_type": "markdown",
   "metadata": {},
   "source": [
    "### Signer 01"
   ]
  },
  {
   "cell_type": "code",
   "execution_count": 277,
   "metadata": {},
   "outputs": [
    {
     "name": "stdout",
     "output_type": "stream",
     "text": [
      "Model: \"model_13\"\n",
      "_________________________________________________________________\n",
      " Layer (type)                Output Shape              Param #   \n",
      "=================================================================\n",
      " input_14 (InputLayer)       [(None, None, None)]      0         \n",
      "                                                                 \n",
      " frame_position_embedding (P  (None, None, 4096)       73728     \n",
      " ositionalEmbedding)                                             \n",
      "                                                                 \n",
      " transformer_layer (Transfor  (None, None, 4096)       134299652 \n",
      " merEncoder)                                                     \n",
      "                                                                 \n",
      " global_max_pooling1d_13 (Gl  (None, 4096)             0         \n",
      " obalMaxPooling1D)                                               \n",
      "                                                                 \n",
      " dropout_13 (Dropout)        (None, 4096)              0         \n",
      "                                                                 \n",
      " dense_41 (Dense)            (None, 100)               409700    \n",
      "                                                                 \n",
      "=================================================================\n",
      "Total params: 134,783,080\n",
      "Trainable params: 134,783,080\n",
      "Non-trainable params: 0\n",
      "_________________________________________________________________\n"
     ]
    }
   ],
   "source": [
    "model_1 = get_compiled_model()\n",
    "model_1.summary()"
   ]
  },
  {
   "cell_type": "code",
   "execution_count": 278,
   "metadata": {},
   "outputs": [
    {
     "name": "stdout",
     "output_type": "stream",
     "text": [
      "Epoch 1/50\n",
      " 8/87 [=>............................] - ETA: 10:26 - loss: 9.2128 - accuracy: 0.0078"
     ]
    }
   ],
   "source": [
    "\n",
    "results_1 = model_1.fit(\n",
    "        train_generator1,\n",
    "        validation_data=val_generator1,\n",
    "        epochs=50,\n",
    "        callbacks=[keras.callbacks.EarlyStopping(patience=3)]\n",
    ")"
   ]
  },
  {
   "cell_type": "code",
   "execution_count": null,
   "metadata": {},
   "outputs": [
    {
     "name": "stdout",
     "output_type": "stream",
     "text": [
      "25/25 [==============================] - 101s 4s/step - loss: 0.8498 - accuracy: 0.8900\n"
     ]
    }
   ],
   "source": [
    "signer1 = model_1.evaluate(test_generator1)"
   ]
  },
  {
   "cell_type": "code",
   "execution_count": null,
   "metadata": {},
   "outputs": [
    {
     "data": {
      "image/png": "[encoded data removed]",
      "text/plain": [
       "<Figure size 640x480 with 1 Axes>"
      ]
     },
     "metadata": {},
     "output_type": "display_data"
    }
   ],
   "source": [
    "plot_loss(results_1)"
   ]
  },
  {
   "cell_type": "code",
   "execution_count": null,
   "metadata": {},
   "outputs": [
    {
     "name": "stdout",
     "output_type": "stream",
     "text": [
      "25/25 [==============================] - 101s 4s/step\n",
      "              precision    recall  f1-score   support\n",
      "\n",
      "           0       0.89      1.00      0.94         8\n",
      "           1       0.89      1.00      0.94         8\n",
      "           2       0.67      1.00      0.80         8\n",
      "           3       1.00      1.00      1.00         8\n",
      "           4       1.00      0.88      0.93         8\n",
      "           5       1.00      1.00      1.00         8\n",
      "           6       1.00      1.00      1.00         8\n",
      "           7       0.00      0.00      0.00         8\n",
      "           8       1.00      1.00      1.00         8\n",
      "           9       0.89      1.00      0.94         8\n",
      "          10       1.00      1.00      1.00         8\n",
      "          11       1.00      1.00      1.00         8\n",
      "          12       1.00      1.00      1.00         8\n",
      "          13       1.00      1.00      1.00         8\n",
      "          14       1.00      1.00      1.00         8\n",
      "          15       1.00      0.88      0.93         8\n",
      "          16       1.00      1.00      1.00         8\n",
      "          17       1.00      1.00      1.00         8\n",
      "          18       1.00      1.00      1.00         8\n",
      "          19       0.89      1.00      0.94         8\n",
      "          20       1.00      1.00      1.00         8\n",
      "          21       1.00      1.00      1.00         8\n",
      "          22       1.00      1.00      1.00         8\n",
      "          23       0.80      1.00      0.89         8\n",
      "          24       1.00      1.00      1.00         8\n",
      "          25       1.00      0.75      0.86         8\n",
      "          26       0.89      1.00      0.94         8\n",
      "          27       1.00      1.00      1.00         8\n",
      "          28       1.00      0.75      0.86         8\n",
      "          29       1.00      1.00      1.00         8\n",
      "          30       1.00      0.75      0.86         8\n",
      "          31       1.00      1.00      1.00         8\n",
      "          32       0.67      1.00      0.80         8\n",
      "          33       1.00      1.00      1.00         8\n",
      "          34       0.73      1.00      0.84         8\n",
      "          35       1.00      1.00      1.00         8\n",
      "          36       1.00      1.00      1.00         8\n",
      "          37       0.89      1.00      0.94         8\n",
      "          38       0.73      1.00      0.84         8\n",
      "          39       1.00      1.00      1.00         8\n",
      "          40       1.00      1.00      1.00         8\n",
      "          41       1.00      1.00      1.00         8\n",
      "          42       1.00      1.00      1.00         8\n",
      "          43       1.00      1.00      1.00         8\n",
      "          44       0.00      0.00      0.00         8\n",
      "          45       1.00      0.38      0.55         8\n",
      "          46       1.00      1.00      1.00         8\n",
      "          47       1.00      0.75      0.86         8\n",
      "          48       1.00      0.75      0.86         8\n",
      "          49       0.00      0.00      0.00         8\n",
      "          50       1.00      0.62      0.77         8\n",
      "          51       1.00      1.00      1.00         8\n",
      "          52       1.00      1.00      1.00         8\n",
      "          53       1.00      0.62      0.77         8\n",
      "          54       1.00      1.00      1.00         8\n",
      "          55       1.00      1.00      1.00         8\n",
      "          56       1.00      0.75      0.86         8\n",
      "          57       0.89      1.00      0.94         8\n",
      "          58       0.89      1.00      0.94         8\n",
      "          59       1.00      1.00      1.00         8\n",
      "          60       1.00      1.00      1.00         8\n",
      "          61       1.00      0.75      0.86         8\n",
      "          62       0.89      1.00      0.94         8\n",
      "          63       1.00      1.00      1.00         8\n",
      "          64       1.00      1.00      1.00         8\n",
      "          65       0.80      1.00      0.89         8\n",
      "          66       1.00      0.25      0.40         8\n",
      "          67       0.67      1.00      0.80         8\n",
      "          68       0.73      1.00      0.84         8\n",
      "          69       1.00      1.00      1.00         8\n",
      "          70       1.00      1.00      1.00         8\n",
      "          71       1.00      1.00      1.00         8\n",
      "          72       0.89      1.00      0.94         8\n",
      "          73       1.00      1.00      1.00         8\n",
      "          74       1.00      1.00      1.00         8\n",
      "          75       0.50      1.00      0.67         8\n",
      "          76       1.00      1.00      1.00         8\n",
      "          77       1.00      1.00      1.00         8\n",
      "          78       1.00      1.00      1.00         8\n",
      "          79       1.00      0.75      0.86         8\n",
      "          80       0.67      1.00      0.80         8\n",
      "          81       1.00      0.62      0.77         8\n",
      "          82       1.00      0.62      0.77         8\n",
      "          83       1.00      1.00      1.00         8\n",
      "          84       1.00      1.00      1.00         8\n",
      "          85       1.00      1.00      1.00         8\n",
      "          86       0.62      1.00      0.76         8\n",
      "          87       0.89      1.00      0.94         8\n",
      "          88       0.00      0.00      0.00         8\n",
      "          89       0.89      1.00      0.94         8\n",
      "          90       0.80      1.00      0.89         8\n",
      "          91       0.00      0.00      0.00         8\n",
      "          92       0.67      0.25      0.36         8\n",
      "          93       0.38      1.00      0.55         8\n",
      "          94       0.73      1.00      0.84         8\n",
      "          95       0.50      1.00      0.67         8\n",
      "          96       1.00      1.00      1.00         8\n",
      "          97       0.88      0.88      0.88         8\n",
      "          98       1.00      1.00      1.00         8\n",
      "          99       1.00      1.00      1.00         8\n",
      "\n",
      "    accuracy                           0.89       800\n",
      "   macro avg       0.88      0.89      0.87       800\n",
      "weighted avg       0.88      0.89      0.87       800\n",
      "\n"
     ]
    },
    {
     "name": "stderr",
     "output_type": "stream",
     "text": [
      "/Users/omaralghamdi/Library/Python/3.9/lib/python/site-packages/sklearn/metrics/_classification.py:1334: UndefinedMetricWarning: Precision and F-score are ill-defined and being set to 0.0 in labels with no predicted samples. Use `zero_division` parameter to control this behavior.\n",
      "  _warn_prf(average, modifier, msg_start, len(result))\n",
      "/Users/omaralghamdi/Library/Python/3.9/lib/python/site-packages/sklearn/metrics/_classification.py:1334: UndefinedMetricWarning: Precision and F-score are ill-defined and being set to 0.0 in labels with no predicted samples. Use `zero_division` parameter to control this behavior.\n",
      "  _warn_prf(average, modifier, msg_start, len(result))\n",
      "/Users/omaralghamdi/Library/Python/3.9/lib/python/site-packages/sklearn/metrics/_classification.py:1334: UndefinedMetricWarning: Precision and F-score are ill-defined and being set to 0.0 in labels with no predicted samples. Use `zero_division` parameter to control this behavior.\n",
      "  _warn_prf(average, modifier, msg_start, len(result))\n"
     ]
    }
   ],
   "source": [
    "print(print_report(model_1, test_generator1))"
   ]
  },
  {
   "attachments": {},
   "cell_type": "markdown",
   "metadata": {},
   "source": [
    "### Signer 02"
   ]
  },
  {
   "cell_type": "code",
   "execution_count": null,
   "metadata": {},
   "outputs": [],
   "source": [
    "model_2 = get_compiled_model()"
   ]
  },
  {
   "cell_type": "code",
   "execution_count": null,
   "metadata": {},
   "outputs": [
    {
     "name": "stdout",
     "output_type": "stream",
     "text": [
      "Epoch 1/10\n",
      "89/89 [==============================] - 763s 8s/step - loss: 7.4701 - accuracy: 0.0140 - val_loss: 5.9962 - val_accuracy: 0.0043\n",
      "Epoch 2/10\n",
      "89/89 [==============================] - 738s 8s/step - loss: 6.3883 - accuracy: 0.0193 - val_loss: 5.4303 - val_accuracy: 0.0114\n",
      "Epoch 3/10\n",
      "89/89 [==============================] - 657s 7s/step - loss: 4.8451 - accuracy: 0.0794 - val_loss: 4.2080 - val_accuracy: 0.0938\n",
      "Epoch 4/10\n",
      "89/89 [==============================] - 658s 7s/step - loss: 2.8510 - accuracy: 0.3051 - val_loss: 2.0569 - val_accuracy: 0.4190\n",
      "Epoch 5/10\n",
      "89/89 [==============================] - 660s 7s/step - loss: 1.3354 - accuracy: 0.6162 - val_loss: 1.3981 - val_accuracy: 0.6477\n",
      "Epoch 6/10\n",
      "89/89 [==============================] - 656s 7s/step - loss: 0.6667 - accuracy: 0.8027 - val_loss: 0.5729 - val_accuracy: 0.8338\n",
      "Epoch 7/10\n",
      "89/89 [==============================] - 656s 7s/step - loss: 0.3957 - accuracy: 0.8968 - val_loss: 0.4193 - val_accuracy: 0.8977\n",
      "Epoch 8/10\n",
      "89/89 [==============================] - 652s 7s/step - loss: 0.2204 - accuracy: 0.9343 - val_loss: 0.2592 - val_accuracy: 0.9205\n",
      "Epoch 9/10\n",
      "89/89 [==============================] - 654s 7s/step - loss: 0.1313 - accuracy: 0.9565 - val_loss: 0.2423 - val_accuracy: 0.9276\n",
      "Epoch 10/10\n",
      "89/89 [==============================] - 663s 7s/step - loss: 0.0945 - accuracy: 0.9695 - val_loss: 0.2665 - val_accuracy: 0.9389\n"
     ]
    }
   ],
   "source": [
    "results_2 = model_2.fit(\n",
    "        train_generator2,\n",
    "        validation_data=val_generator2,\n",
    "        epochs=50,\n",
    "        callbacks=[keras.callbacks.EarlyStopping(patience=3)]\n",
    ")"
   ]
  },
  {
   "cell_type": "code",
   "execution_count": null,
   "metadata": {},
   "outputs": [
    {
     "name": "stdout",
     "output_type": "stream",
     "text": [
      "25/25 [==============================] - 93s 4s/step - loss: 0.1833 - accuracy: 0.9500\n"
     ]
    }
   ],
   "source": [
    "signer_2 = model_2.evaluate(test_generator2)"
   ]
  },
  {
   "cell_type": "code",
   "execution_count": null,
   "metadata": {},
   "outputs": [
    {
     "data": {
      "image/png": "[encoded data removed]",
      "text/plain": [
       "<Figure size 640x480 with 1 Axes>"
      ]
     },
     "metadata": {},
     "output_type": "display_data"
    }
   ],
   "source": [
    "plot_loss(results_2)"
   ]
  },
  {
   "cell_type": "code",
   "execution_count": null,
   "metadata": {},
   "outputs": [
    {
     "name": "stdout",
     "output_type": "stream",
     "text": [
      "25/25 [==============================] - 99s 4s/step\n",
      "              precision    recall  f1-score   support\n",
      "\n",
      "           0       1.00      1.00      1.00         8\n",
      "           1       1.00      1.00      1.00         8\n",
      "           2       1.00      1.00      1.00         8\n",
      "           3       1.00      1.00      1.00         8\n",
      "           4       1.00      1.00      1.00         8\n",
      "           5       1.00      1.00      1.00         8\n",
      "           6       1.00      0.88      0.93         8\n",
      "           7       1.00      1.00      1.00         8\n",
      "           8       1.00      1.00      1.00         8\n",
      "           9       1.00      0.50      0.67         8\n",
      "          10       1.00      1.00      1.00         8\n",
      "          11       0.89      1.00      0.94         8\n",
      "          12       0.89      1.00      0.94         8\n",
      "          13       1.00      1.00      1.00         8\n",
      "          14       1.00      0.25      0.40         8\n",
      "          15       0.53      1.00      0.70         8\n",
      "          16       1.00      1.00      1.00         8\n",
      "          17       1.00      1.00      1.00         8\n",
      "          18       0.80      1.00      0.89         8\n",
      "          19       1.00      1.00      1.00         8\n",
      "          20       0.89      1.00      0.94         8\n",
      "          21       1.00      1.00      1.00         8\n",
      "          22       0.89      1.00      0.94         8\n",
      "          23       0.73      1.00      0.84         8\n",
      "          24       1.00      0.75      0.86         8\n",
      "          25       0.89      1.00      0.94         8\n",
      "          26       1.00      1.00      1.00         8\n",
      "          27       1.00      0.75      0.86         8\n",
      "          28       0.89      1.00      0.94         8\n",
      "          29       1.00      0.88      0.93         8\n",
      "          30       1.00      0.88      0.93         8\n",
      "          31       1.00      0.88      0.93         8\n",
      "          32       1.00      1.00      1.00         8\n",
      "          33       1.00      1.00      1.00        11\n",
      "          34       1.00      1.00      1.00         5\n",
      "          35       1.00      1.00      1.00         8\n",
      "          36       1.00      1.00      1.00         8\n",
      "          37       1.00      1.00      1.00         8\n",
      "          38       1.00      0.88      0.93         8\n",
      "          39       1.00      1.00      1.00         8\n",
      "          40       0.80      1.00      0.89         8\n",
      "          41       0.89      1.00      0.94         8\n",
      "          42       1.00      1.00      1.00         8\n",
      "          43       1.00      0.88      0.93         8\n",
      "          44       1.00      1.00      1.00         8\n",
      "          45       1.00      1.00      1.00         8\n",
      "          46       1.00      1.00      1.00         8\n",
      "          47       1.00      1.00      1.00         8\n",
      "          48       1.00      1.00      1.00         8\n",
      "          49       1.00      1.00      1.00         8\n",
      "          50       1.00      1.00      1.00         8\n",
      "          51       1.00      1.00      1.00         8\n",
      "          52       1.00      0.88      0.93         8\n",
      "          53       1.00      1.00      1.00         8\n",
      "          54       1.00      1.00      1.00         8\n",
      "          55       1.00      0.75      0.86         8\n",
      "          56       1.00      1.00      1.00         8\n",
      "          57       1.00      1.00      1.00         8\n",
      "          58       0.88      0.88      0.88         8\n",
      "          59       0.89      1.00      0.94         8\n",
      "          60       1.00      1.00      1.00         8\n",
      "          61       0.78      0.88      0.82         8\n",
      "          62       1.00      1.00      1.00         8\n",
      "          63       1.00      0.88      0.93         8\n",
      "          64       1.00      1.00      1.00         8\n",
      "          65       0.89      1.00      0.94         8\n",
      "          66       1.00      0.88      0.93         8\n",
      "          67       1.00      0.75      0.86         8\n",
      "          68       1.00      1.00      1.00         8\n",
      "          69       1.00      1.00      1.00         8\n",
      "          70       1.00      1.00      1.00         8\n",
      "          71       0.89      1.00      0.94         8\n",
      "          72       1.00      1.00      1.00         8\n",
      "          73       1.00      0.88      0.93         8\n",
      "          74       0.73      1.00      0.84         8\n",
      "          75       1.00      1.00      1.00         8\n",
      "          76       1.00      1.00      1.00         8\n",
      "          77       1.00      1.00      1.00         8\n",
      "          78       1.00      1.00      1.00         8\n",
      "          79       1.00      0.88      0.93         8\n",
      "          80       0.62      1.00      0.76         8\n",
      "          81       1.00      0.25      0.40         8\n",
      "          82       1.00      1.00      1.00         8\n",
      "          83       1.00      1.00      1.00         8\n",
      "          84       1.00      1.00      1.00         8\n",
      "          85       1.00      1.00      1.00         8\n",
      "          86       1.00      1.00      1.00         8\n",
      "          87       0.89      1.00      0.94         8\n",
      "          88       1.00      1.00      1.00         8\n",
      "          89       1.00      0.88      0.93         8\n",
      "          90       1.00      1.00      1.00         8\n",
      "          91       1.00      1.00      1.00         8\n",
      "          92       1.00      1.00      1.00         8\n",
      "          93       1.00      0.88      0.93         8\n",
      "          94       0.78      0.88      0.82         8\n",
      "          95       1.00      1.00      1.00         8\n",
      "          96       0.80      1.00      0.89         8\n",
      "          97       1.00      1.00      1.00         8\n",
      "          98       1.00      1.00      1.00         8\n",
      "          99       1.00      1.00      1.00         8\n",
      "\n",
      "    accuracy                           0.95       800\n",
      "   macro avg       0.96      0.95      0.95       800\n",
      "weighted avg       0.96      0.95      0.95       800\n",
      "\n"
     ]
    }
   ],
   "source": [
    "print(print_report(model_2, test_generator2))"
   ]
  },
  {
   "attachments": {},
   "cell_type": "markdown",
   "metadata": {},
   "source": [
    "### Signer 03"
   ]
  },
  {
   "cell_type": "code",
   "execution_count": 50,
   "metadata": {},
   "outputs": [],
   "source": [
    "model_3 = get_compiled_model()"
   ]
  },
  {
   "cell_type": "code",
   "execution_count": 51,
   "metadata": {},
   "outputs": [
    {
     "name": "stdout",
     "output_type": "stream",
     "text": [
      "Epoch 1/15\n",
      "88/88 [==============================] - 680s 8s/step - loss: 7.5684 - accuracy: 0.0096 - val_loss: 5.9153 - val_accuracy: 0.0071\n",
      "Epoch 2/15\n",
      "88/88 [==============================] - 673s 8s/step - loss: 6.3275 - accuracy: 0.0199 - val_loss: 5.6737 - val_accuracy: 0.0085\n",
      "Epoch 3/15\n",
      "88/88 [==============================] - 673s 8s/step - loss: 5.1379 - accuracy: 0.0760 - val_loss: 3.9511 - val_accuracy: 0.1605\n",
      "Epoch 4/15\n",
      "88/88 [==============================] - 670s 8s/step - loss: 2.3853 - accuracy: 0.4414 - val_loss: 1.3829 - val_accuracy: 0.6165\n",
      "Epoch 5/15\n",
      "88/88 [==============================] - 632s 7s/step - loss: 0.7919 - accuracy: 0.7830 - val_loss: 0.4523 - val_accuracy: 0.8764\n",
      "Epoch 6/15\n",
      "88/88 [==============================] - 636s 7s/step - loss: 0.3259 - accuracy: 0.9059 - val_loss: 0.4892 - val_accuracy: 0.8722\n",
      "Epoch 7/15\n",
      "88/88 [==============================] - 656s 7s/step - loss: 0.3603 - accuracy: 0.9023 - val_loss: 0.3802 - val_accuracy: 0.8849\n",
      "Epoch 8/15\n",
      "88/88 [==============================] - 656s 7s/step - loss: 0.1428 - accuracy: 0.9577 - val_loss: 0.1114 - val_accuracy: 0.9645\n",
      "Epoch 9/15\n",
      "88/88 [==============================] - 658s 7s/step - loss: 0.1002 - accuracy: 0.9705 - val_loss: 0.2332 - val_accuracy: 0.9432\n",
      "Epoch 10/15\n",
      "88/88 [==============================] - 667s 8s/step - loss: 0.0815 - accuracy: 0.9787 - val_loss: 0.2747 - val_accuracy: 0.9460\n",
      "Epoch 11/15\n",
      "88/88 [==============================] - 678s 8s/step - loss: 0.1343 - accuracy: 0.9641 - val_loss: 0.1392 - val_accuracy: 0.9659\n"
     ]
    }
   ],
   "source": [
    "results_3 = model_3.fit(\n",
    "        train_generator3,\n",
    "        validation_data=val_generator3,\n",
    "        epochs=15,\n",
    "        callbacks=[keras.callbacks.EarlyStopping(patience=3)]\n",
    ")\n",
    "\n"
   ]
  },
  {
   "cell_type": "code",
   "execution_count": 52,
   "metadata": {},
   "outputs": [
    {
     "name": "stdout",
     "output_type": "stream",
     "text": [
      "25/25 [==============================] - 95s 4s/step - loss: 0.1507 - accuracy: 0.9675\n"
     ]
    }
   ],
   "source": [
    "signer_3 = model_3.evaluate(test_generator3)"
   ]
  },
  {
   "cell_type": "code",
   "execution_count": 243,
   "metadata": {},
   "outputs": [
    {
     "data": {
      "image/png": "[encoded data removed]",
      "text/plain": [
       "<Figure size 640x480 with 1 Axes>"
      ]
     },
     "metadata": {},
     "output_type": "display_data"
    }
   ],
   "source": [
    "plot_loss(results_3)"
   ]
  },
  {
   "cell_type": "code",
   "execution_count": 253,
   "metadata": {},
   "outputs": [
    {
     "name": "stdout",
     "output_type": "stream",
     "text": [
      "25/25 [==============================] - 97s 4s/step\n",
      "              precision    recall  f1-score   support\n",
      "\n",
      "           0       0.89      1.00      0.94         8\n",
      "           1       1.00      1.00      1.00         8\n",
      "           2       1.00      1.00      1.00         8\n",
      "           3       1.00      0.62      0.77         8\n",
      "           4       1.00      1.00      1.00         8\n",
      "           5       1.00      1.00      1.00         8\n",
      "           6       0.80      1.00      0.89         8\n",
      "           7       1.00      1.00      1.00         8\n",
      "           8       1.00      1.00      1.00         8\n",
      "           9       1.00      1.00      1.00         8\n",
      "          10       1.00      1.00      1.00         8\n",
      "          11       0.80      1.00      0.89         8\n",
      "          12       1.00      0.75      0.86         8\n",
      "          13       1.00      1.00      1.00         8\n",
      "          14       1.00      1.00      1.00         8\n",
      "          15       1.00      0.62      0.77         8\n",
      "          16       1.00      1.00      1.00         8\n",
      "          17       1.00      1.00      1.00         8\n",
      "          18       0.80      1.00      0.89         8\n",
      "          19       1.00      1.00      1.00         8\n",
      "          20       1.00      1.00      1.00         8\n",
      "          21       1.00      1.00      1.00         8\n",
      "          22       1.00      1.00      1.00         8\n",
      "          23       0.89      1.00      0.94         8\n",
      "          24       1.00      0.75      0.86         8\n",
      "          25       1.00      1.00      1.00         8\n",
      "          26       1.00      1.00      1.00         8\n",
      "          27       1.00      1.00      1.00         8\n",
      "          28       1.00      1.00      1.00         8\n",
      "          29       1.00      1.00      1.00         8\n",
      "          30       1.00      0.75      0.86         8\n",
      "          31       1.00      1.00      1.00         8\n",
      "          32       1.00      1.00      1.00         8\n",
      "          33       1.00      1.00      1.00         8\n",
      "          34       1.00      1.00      1.00         8\n",
      "          35       0.89      1.00      0.94         8\n",
      "          36       0.89      1.00      0.94         8\n",
      "          37       1.00      0.88      0.93         8\n",
      "          38       0.67      1.00      0.80         8\n",
      "          39       1.00      0.62      0.77         8\n",
      "          40       1.00      1.00      1.00         8\n",
      "          41       1.00      1.00      1.00         8\n",
      "          42       0.89      1.00      0.94         8\n",
      "          43       1.00      1.00      1.00         8\n",
      "          44       1.00      1.00      1.00         8\n",
      "          45       1.00      1.00      1.00         8\n",
      "          46       1.00      1.00      1.00         8\n",
      "          47       1.00      1.00      1.00         8\n",
      "          48       1.00      1.00      1.00         8\n",
      "          49       1.00      1.00      1.00         8\n",
      "          50       1.00      1.00      1.00         8\n",
      "          51       0.89      1.00      0.94         8\n",
      "          52       1.00      1.00      1.00         8\n",
      "          53       1.00      1.00      1.00         8\n",
      "          54       1.00      1.00      1.00         8\n",
      "          55       1.00      0.88      0.93         8\n",
      "          56       1.00      1.00      1.00         8\n",
      "          57       1.00      1.00      1.00         8\n",
      "          58       1.00      1.00      1.00         8\n",
      "          59       1.00      1.00      1.00         8\n",
      "          60       1.00      1.00      1.00         8\n",
      "          61       1.00      1.00      1.00         8\n",
      "          62       1.00      1.00      1.00         8\n",
      "          63       1.00      1.00      1.00         8\n",
      "          64       1.00      1.00      1.00         8\n",
      "          65       1.00      1.00      1.00         8\n",
      "          66       0.89      1.00      0.94         8\n",
      "          67       0.89      1.00      0.94         8\n",
      "          68       1.00      1.00      1.00         8\n",
      "          69       0.89      1.00      0.94         8\n",
      "          70       1.00      1.00      1.00         8\n",
      "          71       1.00      1.00      1.00         8\n",
      "          72       1.00      1.00      1.00         8\n",
      "          73       1.00      0.88      0.93         8\n",
      "          74       1.00      1.00      1.00         8\n",
      "          75       1.00      1.00      1.00         8\n",
      "          76       1.00      0.88      0.93         8\n",
      "          77       1.00      1.00      1.00         8\n",
      "          78       1.00      1.00      1.00         8\n",
      "          79       1.00      0.88      0.93         8\n",
      "          80       1.00      0.88      0.93         8\n",
      "          81       0.80      1.00      0.89         8\n",
      "          82       1.00      1.00      1.00         8\n",
      "          83       1.00      1.00      1.00         8\n",
      "          84       1.00      1.00      1.00         8\n",
      "          85       1.00      1.00      1.00         8\n",
      "          86       1.00      1.00      1.00         8\n",
      "          87       1.00      1.00      1.00         8\n",
      "          88       1.00      1.00      1.00         8\n",
      "          89       1.00      1.00      1.00         8\n",
      "          90       1.00      1.00      1.00         8\n",
      "          91       1.00      1.00      1.00         8\n",
      "          92       1.00      1.00      1.00         8\n",
      "          93       1.00      1.00      1.00         8\n",
      "          94       1.00      1.00      1.00         8\n",
      "          95       1.00      1.00      1.00         8\n",
      "          96       1.00      1.00      1.00         8\n",
      "          97       1.00      1.00      1.00         8\n",
      "          98       0.62      1.00      0.76         8\n",
      "          99       1.00      0.38      0.55         8\n",
      "\n",
      "    accuracy                           0.97       800\n",
      "   macro avg       0.97      0.97      0.97       800\n",
      "weighted avg       0.97      0.97      0.97       800\n",
      "\n"
     ]
    }
   ],
   "source": [
    "print(print_report(model_3, test_generator3))"
   ]
  },
  {
   "attachments": {},
   "cell_type": "markdown",
   "metadata": {},
   "source": [
    "Signer | Accuracy % \n",
    "-------|----------\n",
    "01     | 89.00\n",
    "02     | 95.00\n",
    "03     | 96.75"
   ]
  },
  {
   "attachments": {},
   "cell_type": "markdown",
   "metadata": {},
   "source": [
    "## b. Signer-independant "
   ]
  },
  {
   "attachments": {},
   "cell_type": "markdown",
   "metadata": {},
   "source": [
    "### Signer 01"
   ]
  },
  {
   "cell_type": "code",
   "execution_count": 53,
   "metadata": {},
   "outputs": [],
   "source": [
    "model_23 = get_compiled_model()"
   ]
  },
  {
   "cell_type": "code",
   "execution_count": 54,
   "metadata": {},
   "outputs": [
    {
     "name": "stdout",
     "output_type": "stream",
     "text": [
      "Epoch 1/15\n",
      "177/177 [==============================] - 1347s 8s/step - loss: 6.9026 - accuracy: 0.0124 - val_loss: 5.7913 - val_accuracy: 0.0085\n",
      "Epoch 2/15\n",
      "177/177 [==============================] - 1319s 7s/step - loss: 5.4594 - accuracy: 0.0470 - val_loss: 3.8934 - val_accuracy: 0.1463\n",
      "Epoch 3/15\n",
      "177/177 [==============================] - 1434s 8s/step - loss: 2.1912 - accuracy: 0.4507 - val_loss: 1.2974 - val_accuracy: 0.6506\n",
      "Epoch 4/15\n",
      "177/177 [==============================] - 1409s 8s/step - loss: 0.7315 - accuracy: 0.7821 - val_loss: 0.6081 - val_accuracy: 0.8125\n",
      "Epoch 5/15\n",
      "177/177 [==============================] - 1328s 7s/step - loss: 0.4160 - accuracy: 0.8799 - val_loss: 0.3853 - val_accuracy: 0.8906\n",
      "Epoch 6/15\n",
      "177/177 [==============================] - 1304s 7s/step - loss: 0.2082 - accuracy: 0.9350 - val_loss: 0.3254 - val_accuracy: 0.9091\n",
      "Epoch 7/15\n",
      "177/177 [==============================] - 1264s 7s/step - loss: 0.2203 - accuracy: 0.9347 - val_loss: 0.3715 - val_accuracy: 0.8885\n",
      "Epoch 8/15\n",
      "177/177 [==============================] - 1259s 7s/step - loss: 0.1805 - accuracy: 0.9490 - val_loss: 0.1589 - val_accuracy: 0.9553\n",
      "Epoch 9/15\n",
      "177/177 [==============================] - 1258s 7s/step - loss: 0.1406 - accuracy: 0.9620 - val_loss: 0.3286 - val_accuracy: 0.9091\n",
      "Epoch 10/15\n",
      "177/177 [==============================] - 1263s 7s/step - loss: 0.1813 - accuracy: 0.9486 - val_loss: 0.1717 - val_accuracy: 0.9496\n",
      "Epoch 11/15\n",
      "177/177 [==============================] - 1252s 7s/step - loss: 0.1188 - accuracy: 0.9656 - val_loss: 0.1244 - val_accuracy: 0.9666\n",
      "Epoch 12/15\n",
      "177/177 [==============================] - 1259s 7s/step - loss: 0.2041 - accuracy: 0.9426 - val_loss: 0.3125 - val_accuracy: 0.9176\n",
      "Epoch 13/15\n",
      "177/177 [==============================] - 1269s 7s/step - loss: 0.1701 - accuracy: 0.9559 - val_loss: 0.1766 - val_accuracy: 0.9595\n",
      "Epoch 14/15\n",
      "177/177 [==============================] - 1264s 7s/step - loss: 0.1531 - accuracy: 0.9571 - val_loss: 0.2056 - val_accuracy: 0.9474\n"
     ]
    }
   ],
   "source": [
    "results_23 = model_23.fit(\n",
    "        train_generator_23,\n",
    "        validation_data=val_generator_23,\n",
    "        epochs=15,\n",
    "        callbacks=[keras.callbacks.EarlyStopping(patience=3)]\n",
    ")"
   ]
  },
  {
   "cell_type": "code",
   "execution_count": 55,
   "metadata": {},
   "outputs": [
    {
     "name": "stdout",
     "output_type": "stream",
     "text": [
      "25/25 [==============================] - 88s 4s/step - loss: 10.6460 - accuracy: 0.1300\n"
     ]
    }
   ],
   "source": [
    "signer_1_23 = model_23.evaluate(test_generator1)"
   ]
  },
  {
   "cell_type": "code",
   "execution_count": 258,
   "metadata": {},
   "outputs": [
    {
     "data": {
      "image/png": "[encoded data removed]",
      "text/plain": [
       "<Figure size 640x480 with 1 Axes>"
      ]
     },
     "metadata": {},
     "output_type": "display_data"
    }
   ],
   "source": [
    "plot_loss(results_23)"
   ]
  },
  {
   "cell_type": "code",
   "execution_count": 259,
   "metadata": {},
   "outputs": [
    {
     "name": "stdout",
     "output_type": "stream",
     "text": [
      "25/25 [==============================] - 100s 4s/step\n",
      "              precision    recall  f1-score   support\n",
      "\n",
      "           0       0.00      0.00      0.00         8\n",
      "           1       0.50      0.50      0.50         8\n",
      "           2       0.14      0.12      0.13         8\n",
      "           3       0.50      0.25      0.33         8\n",
      "           4       0.10      0.12      0.11         8\n",
      "           5       0.00      0.00      0.00         8\n",
      "           6       0.00      0.00      0.00         8\n",
      "           7       0.00      0.00      0.00         8\n",
      "           8       0.00      0.00      0.00         8\n",
      "           9       0.00      0.00      0.00         8\n",
      "          10       0.17      0.75      0.28         8\n",
      "          11       0.00      0.00      0.00         8\n",
      "          12       0.00      0.00      0.00         8\n",
      "          13       0.14      0.12      0.13         8\n",
      "          14       0.00      0.00      0.00         8\n",
      "          15       0.00      0.00      0.00         8\n",
      "          16       0.00      0.00      0.00         8\n",
      "          17       0.03      0.25      0.06         8\n",
      "          18       0.00      0.00      0.00         8\n",
      "          19       0.12      0.50      0.20         8\n",
      "          20       0.00      0.00      0.00         8\n",
      "          21       0.00      0.00      0.00         8\n",
      "          22       0.00      0.00      0.00         8\n",
      "          23       1.00      0.12      0.22         8\n",
      "          24       0.03      0.38      0.05         8\n",
      "          25       0.00      0.00      0.00         8\n",
      "          26       0.00      0.00      0.00         8\n",
      "          27       0.27      0.38      0.32         8\n",
      "          28       0.11      0.25      0.15         8\n",
      "          29       0.00      0.00      0.00         8\n",
      "          30       0.08      0.25      0.12         8\n",
      "          31       0.00      0.00      0.00         8\n",
      "          32       0.00      0.00      0.00         8\n",
      "          33       0.00      0.00      0.00         8\n",
      "          34       1.00      0.12      0.22         8\n",
      "          35       0.83      0.62      0.71         8\n",
      "          36       0.00      0.00      0.00         8\n",
      "          37       0.00      0.00      0.00         8\n",
      "          38       0.00      0.00      0.00         8\n",
      "          39       0.00      0.00      0.00         8\n",
      "          40       0.00      0.00      0.00         8\n",
      "          41       0.00      0.00      0.00         8\n",
      "          42       0.00      0.00      0.00         8\n",
      "          43       0.00      0.00      0.00         8\n",
      "          44       0.00      0.00      0.00         8\n",
      "          45       0.00      0.00      0.00         8\n",
      "          46       0.29      0.25      0.27         8\n",
      "          47       0.00      0.00      0.00         8\n",
      "          48       0.00      0.00      0.00         8\n",
      "          49       0.00      0.00      0.00         8\n",
      "          50       0.00      0.00      0.00         8\n",
      "          51       0.75      0.38      0.50         8\n",
      "          52       0.00      0.00      0.00         8\n",
      "          53       0.00      0.00      0.00         8\n",
      "          54       0.00      0.00      0.00         8\n",
      "          55       0.00      0.00      0.00         8\n",
      "          56       0.67      0.75      0.71         8\n",
      "          57       0.00      0.00      0.00         8\n",
      "          58       0.00      0.00      0.00         8\n",
      "          59       0.00      0.00      0.00         8\n",
      "          60       0.00      0.00      0.00         8\n",
      "          61       0.00      0.00      0.00         8\n",
      "          62       0.00      0.00      0.00         8\n",
      "          63       0.00      0.00      0.00         8\n",
      "          64       0.00      0.00      0.00         8\n",
      "          65       0.00      0.00      0.00         8\n",
      "          66       0.09      0.38      0.14         8\n",
      "          67       0.45      0.62      0.53         8\n",
      "          68       0.12      0.62      0.20         8\n",
      "          69       0.00      0.00      0.00         8\n",
      "          70       0.00      0.00      0.00         8\n",
      "          71       0.19      0.50      0.28         8\n",
      "          72       0.71      0.62      0.67         8\n",
      "          73       0.00      0.00      0.00         8\n",
      "          74       0.00      0.00      0.00         8\n",
      "          75       0.14      0.25      0.18         8\n",
      "          76       0.00      0.00      0.00         8\n",
      "          77       0.00      0.00      0.00         8\n",
      "          78       0.50      0.12      0.20         8\n",
      "          79       1.00      0.62      0.77         8\n",
      "          80       0.00      0.00      0.00         8\n",
      "          81       0.00      0.00      0.00         8\n",
      "          82       0.00      0.00      0.00         8\n",
      "          83       1.00      0.50      0.67         8\n",
      "          84       0.00      0.00      0.00         8\n",
      "          85       0.00      0.00      0.00         8\n",
      "          86       0.40      0.25      0.31         8\n",
      "          87       1.00      0.25      0.40         8\n",
      "          88       0.00      0.00      0.00         8\n",
      "          89       0.50      0.12      0.20         8\n",
      "          90       0.00      0.00      0.00         8\n",
      "          91       0.44      0.50      0.47         8\n",
      "          92       0.00      0.00      0.00         8\n",
      "          93       0.00      0.00      0.00         8\n",
      "          94       0.38      0.38      0.38         8\n",
      "          95       0.00      0.00      0.00         8\n",
      "          96       0.30      1.00      0.46         8\n",
      "          97       0.00      0.00      0.00         8\n",
      "          98       0.25      0.12      0.17         8\n",
      "          99       0.00      0.00      0.00         8\n",
      "\n",
      "    accuracy                           0.13       800\n",
      "   macro avg       0.14      0.13      0.11       800\n",
      "weighted avg       0.14      0.13      0.11       800\n",
      "\n"
     ]
    },
    {
     "name": "stderr",
     "output_type": "stream",
     "text": [
      "/Users/omaralghamdi/Library/Python/3.9/lib/python/site-packages/sklearn/metrics/_classification.py:1334: UndefinedMetricWarning: Precision and F-score are ill-defined and being set to 0.0 in labels with no predicted samples. Use `zero_division` parameter to control this behavior.\n",
      "  _warn_prf(average, modifier, msg_start, len(result))\n",
      "/Users/omaralghamdi/Library/Python/3.9/lib/python/site-packages/sklearn/metrics/_classification.py:1334: UndefinedMetricWarning: Precision and F-score are ill-defined and being set to 0.0 in labels with no predicted samples. Use `zero_division` parameter to control this behavior.\n",
      "  _warn_prf(average, modifier, msg_start, len(result))\n",
      "/Users/omaralghamdi/Library/Python/3.9/lib/python/site-packages/sklearn/metrics/_classification.py:1334: UndefinedMetricWarning: Precision and F-score are ill-defined and being set to 0.0 in labels with no predicted samples. Use `zero_division` parameter to control this behavior.\n",
      "  _warn_prf(average, modifier, msg_start, len(result))\n"
     ]
    }
   ],
   "source": [
    "print(print_report(model_23, test_generator1))"
   ]
  },
  {
   "attachments": {},
   "cell_type": "markdown",
   "metadata": {},
   "source": [
    "### Signer 02"
   ]
  },
  {
   "cell_type": "code",
   "execution_count": 56,
   "metadata": {},
   "outputs": [],
   "source": [
    "model_13 = get_compiled_model()"
   ]
  },
  {
   "cell_type": "code",
   "execution_count": 57,
   "metadata": {},
   "outputs": [
    {
     "name": "stdout",
     "output_type": "stream",
     "text": [
      "Epoch 1/15\n",
      "175/175 [==============================] - 1262s 7s/step - loss: 7.0097 - accuracy: 0.0104 - val_loss: 5.6531 - val_accuracy: 0.0080\n",
      "Epoch 2/15\n",
      "175/175 [==============================] - 1246s 7s/step - loss: 5.9820 - accuracy: 0.0205 - val_loss: 4.9766 - val_accuracy: 0.0203\n",
      "Epoch 3/15\n",
      "175/175 [==============================] - 1252s 7s/step - loss: 3.5525 - accuracy: 0.2511 - val_loss: 1.4747 - val_accuracy: 0.5400\n",
      "Epoch 4/15\n",
      "175/175 [==============================] - 1248s 7s/step - loss: 1.1596 - accuracy: 0.6811 - val_loss: 0.6989 - val_accuracy: 0.7740\n",
      "Epoch 5/15\n",
      "175/175 [==============================] - 1251s 7s/step - loss: 0.4941 - accuracy: 0.8473 - val_loss: 0.3248 - val_accuracy: 0.8881\n",
      "Epoch 6/15\n",
      "175/175 [==============================] - 1249s 7s/step - loss: 0.2856 - accuracy: 0.9161 - val_loss: 0.3489 - val_accuracy: 0.8968\n",
      "Epoch 7/15\n",
      "175/175 [==============================] - 1305s 7s/step - loss: 0.2794 - accuracy: 0.9154 - val_loss: 0.2336 - val_accuracy: 0.9208\n",
      "Epoch 8/15\n",
      "175/175 [==============================] - 1270s 7s/step - loss: 0.2115 - accuracy: 0.9393 - val_loss: 0.1534 - val_accuracy: 0.9578\n",
      "Epoch 9/15\n",
      "175/175 [==============================] - 1239s 7s/step - loss: 0.1502 - accuracy: 0.9571 - val_loss: 0.2262 - val_accuracy: 0.9368\n",
      "Epoch 10/15\n",
      "175/175 [==============================] - 1249s 7s/step - loss: 0.1546 - accuracy: 0.9538 - val_loss: 0.2231 - val_accuracy: 0.9346\n",
      "Epoch 11/15\n",
      "175/175 [==============================] - 1285s 7s/step - loss: 0.1351 - accuracy: 0.9570 - val_loss: 0.1672 - val_accuracy: 0.9535\n"
     ]
    }
   ],
   "source": [
    "results_13 = model_13.fit(\n",
    "        train_generator_13,\n",
    "        validation_data=val_generator_13,\n",
    "        epochs=15,\n",
    "        callbacks=[keras.callbacks.EarlyStopping(patience=3)]\n",
    ")"
   ]
  },
  {
   "cell_type": "code",
   "execution_count": 59,
   "metadata": {},
   "outputs": [
    {
     "name": "stdout",
     "output_type": "stream",
     "text": [
      "25/25 [==============================] - 93s 4s/step - loss: 10.1327 - accuracy: 0.1262\n"
     ]
    }
   ],
   "source": [
    "signer_2_13 = model_13.evaluate(test_generator2)"
   ]
  },
  {
   "cell_type": "code",
   "execution_count": 260,
   "metadata": {},
   "outputs": [
    {
     "data": {
      "image/png": "[encoded data removed]",
      "text/plain": [
       "<Figure size 640x480 with 1 Axes>"
      ]
     },
     "metadata": {},
     "output_type": "display_data"
    }
   ],
   "source": [
    "plot_loss(results_13)"
   ]
  },
  {
   "cell_type": "code",
   "execution_count": 261,
   "metadata": {},
   "outputs": [
    {
     "name": "stdout",
     "output_type": "stream",
     "text": [
      "25/25 [==============================] - 107s 4s/step\n",
      "              precision    recall  f1-score   support\n",
      "\n",
      "           0       0.62      0.62      0.62         8\n",
      "           1       0.25      0.12      0.17         8\n",
      "           2       0.00      0.00      0.00         8\n",
      "           3       0.00      0.00      0.00         8\n",
      "           4       0.00      0.00      0.00         8\n",
      "           5       0.00      0.00      0.00         8\n",
      "           6       0.00      0.00      0.00         8\n",
      "           7       0.28      0.88      0.42         8\n",
      "           8       1.00      0.38      0.55         8\n",
      "           9       0.00      0.00      0.00         8\n",
      "          10       1.00      0.12      0.22         8\n",
      "          11       0.00      0.00      0.00         8\n",
      "          12       0.00      0.00      0.00         8\n",
      "          13       0.00      0.00      0.00         8\n",
      "          14       0.08      0.12      0.10         8\n",
      "          15       0.12      0.50      0.20         8\n",
      "          16       0.00      0.00      0.00         8\n",
      "          17       0.00      0.00      0.00         8\n",
      "          18       0.00      0.00      0.00         8\n",
      "          19       0.00      0.00      0.00         8\n",
      "          20       0.00      0.00      0.00         8\n",
      "          21       0.00      0.00      0.00         8\n",
      "          22       0.00      0.00      0.00         8\n",
      "          23       0.00      0.00      0.00         8\n",
      "          24       0.00      0.00      0.00         8\n",
      "          25       0.00      0.00      0.00         8\n",
      "          26       0.00      0.00      0.00         8\n",
      "          27       0.22      0.50      0.31         8\n",
      "          28       0.00      0.00      0.00         8\n",
      "          29       0.00      0.00      0.00         8\n",
      "          30       0.00      0.00      0.00         8\n",
      "          31       0.00      0.00      0.00         8\n",
      "          32       0.33      0.38      0.35         8\n",
      "          33       0.00      0.00      0.00        11\n",
      "          34       0.10      0.20      0.13         5\n",
      "          35       0.75      0.38      0.50         8\n",
      "          36       0.67      0.25      0.36         8\n",
      "          37       0.00      0.00      0.00         8\n",
      "          38       0.00      0.00      0.00         8\n",
      "          39       0.00      0.00      0.00         8\n",
      "          40       0.29      0.62      0.40         8\n",
      "          41       0.00      0.00      0.00         8\n",
      "          42       0.18      0.25      0.21         8\n",
      "          43       0.00      0.00      0.00         8\n",
      "          44       0.00      0.00      0.00         8\n",
      "          45       0.00      0.00      0.00         8\n",
      "          46       0.00      0.00      0.00         8\n",
      "          47       0.00      0.00      0.00         8\n",
      "          48       0.00      0.00      0.00         8\n",
      "          49       0.00      0.00      0.00         8\n",
      "          50       0.00      0.00      0.00         8\n",
      "          51       0.00      0.00      0.00         8\n",
      "          52       0.00      0.00      0.00         8\n",
      "          53       0.00      0.00      0.00         8\n",
      "          54       0.00      0.00      0.00         8\n",
      "          55       0.40      0.25      0.31         8\n",
      "          56       0.00      0.00      0.00         8\n",
      "          57       0.00      0.00      0.00         8\n",
      "          58       0.00      0.00      0.00         8\n",
      "          59       0.00      0.00      0.00         8\n",
      "          60       0.00      0.00      0.00         8\n",
      "          61       0.00      0.00      0.00         8\n",
      "          62       0.01      0.12      0.02         8\n",
      "          63       0.42      0.62      0.50         8\n",
      "          64       0.00      0.00      0.00         8\n",
      "          65       0.25      0.12      0.17         8\n",
      "          66       0.00      0.00      0.00         8\n",
      "          67       0.40      0.50      0.44         8\n",
      "          68       0.00      0.00      0.00         8\n",
      "          69       0.00      0.00      0.00         8\n",
      "          70       0.75      0.75      0.75         8\n",
      "          71       0.00      0.00      0.00         8\n",
      "          72       1.00      0.25      0.40         8\n",
      "          73       0.00      0.00      0.00         8\n",
      "          74       0.00      0.00      0.00         8\n",
      "          75       0.00      0.00      0.00         8\n",
      "          76       0.33      0.25      0.29         8\n",
      "          77       0.00      0.00      0.00         8\n",
      "          78       0.54      0.88      0.67         8\n",
      "          79       0.00      0.00      0.00         8\n",
      "          80       0.00      0.00      0.00         8\n",
      "          81       0.00      0.00      0.00         8\n",
      "          82       0.00      0.00      0.00         8\n",
      "          83       0.67      0.25      0.36         8\n",
      "          84       0.22      0.50      0.31         8\n",
      "          85       0.50      0.38      0.43         8\n",
      "          86       0.40      0.50      0.44         8\n",
      "          87       0.08      0.12      0.10         8\n",
      "          88       0.19      0.38      0.25         8\n",
      "          89       0.12      0.12      0.12         8\n",
      "          90       0.33      0.12      0.18         8\n",
      "          91       0.00      0.00      0.00         8\n",
      "          92       0.10      0.50      0.16         8\n",
      "          93       0.00      0.00      0.00         8\n",
      "          94       0.00      0.00      0.00         8\n",
      "          95       0.16      0.50      0.24         8\n",
      "          96       0.29      0.25      0.27         8\n",
      "          97       0.00      0.00      0.00         8\n",
      "          98       0.00      0.00      0.00         8\n",
      "          99       0.00      0.00      0.00         8\n",
      "\n",
      "    accuracy                           0.13       800\n",
      "   macro avg       0.13      0.13      0.11       800\n",
      "weighted avg       0.13      0.13      0.11       800\n",
      "\n"
     ]
    },
    {
     "name": "stderr",
     "output_type": "stream",
     "text": [
      "/Users/omaralghamdi/Library/Python/3.9/lib/python/site-packages/sklearn/metrics/_classification.py:1334: UndefinedMetricWarning: Precision and F-score are ill-defined and being set to 0.0 in labels with no predicted samples. Use `zero_division` parameter to control this behavior.\n",
      "  _warn_prf(average, modifier, msg_start, len(result))\n",
      "/Users/omaralghamdi/Library/Python/3.9/lib/python/site-packages/sklearn/metrics/_classification.py:1334: UndefinedMetricWarning: Precision and F-score are ill-defined and being set to 0.0 in labels with no predicted samples. Use `zero_division` parameter to control this behavior.\n",
      "  _warn_prf(average, modifier, msg_start, len(result))\n",
      "/Users/omaralghamdi/Library/Python/3.9/lib/python/site-packages/sklearn/metrics/_classification.py:1334: UndefinedMetricWarning: Precision and F-score are ill-defined and being set to 0.0 in labels with no predicted samples. Use `zero_division` parameter to control this behavior.\n",
      "  _warn_prf(average, modifier, msg_start, len(result))\n"
     ]
    }
   ],
   "source": [
    "print(print_report(model_13, test_generator2))"
   ]
  },
  {
   "attachments": {},
   "cell_type": "markdown",
   "metadata": {},
   "source": [
    "### Signer 03"
   ]
  },
  {
   "cell_type": "code",
   "execution_count": 60,
   "metadata": {},
   "outputs": [],
   "source": [
    "model_12 = get_compiled_model()"
   ]
  },
  {
   "cell_type": "code",
   "execution_count": 61,
   "metadata": {},
   "outputs": [
    {
     "name": "stdout",
     "output_type": "stream",
     "text": [
      "Epoch 1/10\n",
      "176/176 [==============================] - 1351s 8s/step - loss: 7.0547 - accuracy: 0.0131 - val_loss: 5.6491 - val_accuracy: 0.0174\n",
      "Epoch 2/10\n",
      "176/176 [==============================] - 1310s 7s/step - loss: 5.8581 - accuracy: 0.0195 - val_loss: 4.9398 - val_accuracy: 0.0080\n",
      "Epoch 3/10\n",
      "176/176 [==============================] - 1309s 7s/step - loss: 3.8632 - accuracy: 0.1825 - val_loss: 2.3883 - val_accuracy: 0.3946\n",
      "Epoch 4/10\n",
      "176/176 [==============================] - 1337s 8s/step - loss: 1.5351 - accuracy: 0.5898 - val_loss: 0.9803 - val_accuracy: 0.7217\n",
      "Epoch 5/10\n",
      "176/176 [==============================] - 1337s 8s/step - loss: 0.6912 - accuracy: 0.8075 - val_loss: 0.7912 - val_accuracy: 0.7958\n",
      "Epoch 6/10\n",
      "176/176 [==============================] - 1318s 7s/step - loss: 0.4018 - accuracy: 0.8842 - val_loss: 0.3491 - val_accuracy: 0.8903\n",
      "Epoch 7/10\n",
      "176/176 [==============================] - 1339s 8s/step - loss: 0.2900 - accuracy: 0.9194 - val_loss: 0.2302 - val_accuracy: 0.9317\n",
      "Epoch 8/10\n",
      "176/176 [==============================] - 1343s 8s/step - loss: 0.2492 - accuracy: 0.9290 - val_loss: 0.1978 - val_accuracy: 0.9433\n",
      "Epoch 9/10\n",
      "176/176 [==============================] - 1346s 8s/step - loss: 0.1493 - accuracy: 0.9593 - val_loss: 0.1575 - val_accuracy: 0.9564\n",
      "Epoch 10/10\n",
      "176/176 [==============================] - 1327s 8s/step - loss: 0.1598 - accuracy: 0.9577 - val_loss: 0.1533 - val_accuracy: 0.9549\n"
     ]
    }
   ],
   "source": [
    "results_12 = model_12.fit(\n",
    "        train_generator_12,\n",
    "        validation_data=val_generator_12,\n",
    "        epochs=10,\n",
    "        callbacks=[keras.callbacks.EarlyStopping(patience=3)]\n",
    ")"
   ]
  },
  {
   "cell_type": "code",
   "execution_count": 62,
   "metadata": {},
   "outputs": [
    {
     "name": "stdout",
     "output_type": "stream",
     "text": [
      "25/25 [==============================] - 96s 4s/step - loss: 10.6032 - accuracy: 0.1663\n"
     ]
    }
   ],
   "source": [
    "signer_3_12 = model_12.evaluate(test_generator3)"
   ]
  },
  {
   "cell_type": "code",
   "execution_count": 263,
   "metadata": {},
   "outputs": [
    {
     "data": {
      "image/png": "[encoded data removed]",
      "text/plain": [
       "<Figure size 640x480 with 1 Axes>"
      ]
     },
     "metadata": {},
     "output_type": "display_data"
    }
   ],
   "source": [
    "plot_loss(results_12)"
   ]
  },
  {
   "attachments": {},
   "cell_type": "markdown",
   "metadata": {},
   "source": [
    "Signer | Accuracy % \n",
    "-------|----------\n",
    "01 (trained on 02,03)| 13.00\n",
    "02 (trained on 01,03)| 12.62\n",
    "03 (trained on 01,02)| 16.63"
   ]
  },
  {
   "attachments": {},
   "cell_type": "markdown",
   "metadata": {},
   "source": [
    "Saving the models to use them later if needed."
   ]
  },
  {
   "cell_type": "code",
   "execution_count": 270,
   "metadata": {},
   "outputs": [],
   "source": [
    "from keras.models import save_model\n",
    "def save_models(models, directory):\n",
    "    a_path =  os.path.join(os.getcwd(), directory)\n",
    "    enumerate\n",
    "    for i, model in enumerate(models):\n",
    "        save_model(model, os.path.join(a_path, '{}.h5'.format(i+1)))"
   ]
  },
  {
   "cell_type": "code",
   "execution_count": 271,
   "metadata": {},
   "outputs": [
    {
     "name": "stderr",
     "output_type": "stream",
     "text": [
      "/Users/omaralghamdi/Library/Python/3.9/lib/python/site-packages/keras/engine/functional.py:1564: CustomMaskWarning: Custom mask layers require a config and must override get_config. When loading, the custom mask layer must be passed to the custom_objects argument.\n",
      "  layer_config = serialize_layer_fn(layer)\n"
     ]
    }
   ],
   "source": [
    "save_models([model_1, model_2, model_3, model_23, model_13, model_12], 'models')"
   ]
  },
  {
   "cell_type": "code",
   "execution_count": 122,
   "metadata": {},
   "outputs": [],
   "source": [
    "def predict_arabic(model, directory):\n",
    "    r_path = os.path.join(os.getcwd(), directory)\n",
    "    # Read in the CSV file as a numpy array using np.genfromtxt\n",
    "    data = np.genfromtxt(r_path, delimiter=',')\n",
    "    data = np.expand_dims(data, axis=0)\n",
    "    # Extract the label from the file path and convert it to an integer\n",
    "    label = int(r_path.split('/')[-2]) - MINIMUM_SIGN_ID\n",
    "    corresponding_label = translation_labels.loc[translation_labels['SignID'] == label, 'Sign-Arabic'].item()\n",
    "    print('The true label is: ', corresponding_label)\n",
    "    prediction = np.argmax(model.predict(data))\n",
    "    corresponding_label = translation_labels.loc[translation_labels['SignID'] == prediction, 'Sign-Arabic'].item()\n",
    "    print('The predicted label is: ', corresponding_label)\n",
    "      "
   ]
  },
  {
   "cell_type": "code",
   "execution_count": 164,
   "metadata": {},
   "outputs": [],
   "source": [
    "def predict_english(model, directory):\n",
    "    r_path = os.path.join(os.getcwd(), directory)\n",
    "    # Read in the CSV file as a numpy array using np.genfromtxt\n",
    "    data = np.genfromtxt(r_path, delimiter=',')\n",
    "    data = np.expand_dims(data, axis=0)\n",
    "    # Extract the label from the file path and convert it to an integer\n",
    "    label = int(r_path.split('/')[-2]) - MINIMUM_SIGN_ID\n",
    "    corresponding_label = translation_labels.loc[translation_labels['SignID'] == label, 'Sign-English'].item()\n",
    "    print('The true label is: ', corresponding_label)\n",
    "    prediction = np.argmax(model.predict(data))\n",
    "    corresponding_label = translation_labels.loc[translation_labels['SignID'] == prediction, 'Sign-English'].item()\n",
    "    print('The predicted label is: ', corresponding_label)"
   ]
  },
  {
   "attachments": {},
   "cell_type": "markdown",
   "metadata": {},
   "source": [
    "Arabic prediction"
   ]
  },
  {
   "cell_type": "code",
   "execution_count": 165,
   "metadata": {},
   "outputs": [
    {
     "name": "stdout",
     "output_type": "stream",
     "text": [
      "The true label is:  هيكل عظمي\n",
      "1/1 [==============================] - 0s 103ms/step\n",
      "The predicted label is:  هيكل عظمي\n"
     ]
    }
   ],
   "source": [
    "predict_arabic(model_3, '/Users/omaralghamdi/ICS471-project/extracted_03/test/0071/1.csv')"
   ]
  },
  {
   "attachments": {},
   "cell_type": "markdown",
   "metadata": {},
   "source": [
    "English prediction"
   ]
  },
  {
   "cell_type": "code",
   "execution_count": 166,
   "metadata": {},
   "outputs": [
    {
     "name": "stdout",
     "output_type": "stream",
     "text": [
      "The true label is:  diabetes\n",
      "1/1 [==============================] - 0s 100ms/step\n",
      "The predicted label is:  diabetes\n"
     ]
    }
   ],
   "source": [
    "predict_english(model_3, 'extracted_03/test/0121/6.csv')"
   ]
  },
  {
   "attachments": {},
   "cell_type": "markdown",
   "metadata": {},
   "source": [
    "Work distribution:\n",
    "\n",
    "- Omar Alghamdi: `50%`\n",
    "\n",
    "- Suhaib Abdullatif: `50%`\n"
   ]
  },
  {
   "cell_type": "markdown",
   "metadata": {},
   "source": [
    "# References"
   ]
  },
  {
   "attachments": {},
   "cell_type": "markdown",
   "metadata": {},
   "source": [
    "- [Video Classification with Transformers](https://keras.io/examples/vision/video_transformers/)\n",
    "- [Write your own Custom Data Generator for TensorFlow Keras](https://medium.com/analytics-vidhya/write-your-own-custom-data-generator-for-tensorflow-keras-1252b64e41c3)"
   ]
  }
 ],
 "metadata": {
  "kernelspec": {
   "display_name": "Python 3 (ipykernel)",
   "language": "python",
   "name": "python3"
  },
  "language_info": {
   "codemirror_mode": {
    "name": "ipython",
    "version": 3
   },
   "file_extension": ".py",
   "mimetype": "text/x-python",
   "name": "python",
   "nbconvert_exporter": "python",
   "pygments_lexer": "ipython3",
   "version": "3.9.7"
  },
  "vscode": {
   "interpreter": {
    "hash": "397704579725e15f5c7cb49fe5f0341eb7531c82d19f2c29d197e8b64ab5776b"
   }
  }
 },
 "nbformat": 4,
 "nbformat_minor": 2
}
